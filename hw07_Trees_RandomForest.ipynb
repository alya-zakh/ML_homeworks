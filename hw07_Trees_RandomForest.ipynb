{
  "cells": [
    {
      "cell_type": "markdown",
      "metadata": {
        "id": "lI9ahobTE7hR"
      },
      "source": [
        "# Интеллектуальный анализ данных – весна 2024\n",
        "\n",
        "# Домашнее задание 7: Деревья. Случайный лес\n",
        "\n",
        "Правила:\n",
        "\n",
        "- Домашнее задание оценивается в 10 баллов (+1 бонусный балл).\n",
        "\n",
        "\n",
        "- Можно использовать без доказательства любые результаты, встречавшиеся на лекциях или семинарах по курсу, если получение этих результатов не является вопросом задания.\n",
        "\n",
        "\n",
        "- Можно использовать любые свободные источники с обязательным указанием ссылки на них.\n",
        "\n",
        "\n",
        "- Плагиат не допускается. При обнаружении случаев списывания, 0 за работу выставляется всем участникам нарушения, даже если можно установить, кто у кого списал.\n",
        "\n",
        "<!-- ![](meme.jpg) -->\n",
        "<img src=\"meme.jpg\" alt=\"Drawing\" style=\"width: 700px;\"/>"
      ]
    },
    {
      "cell_type": "markdown",
      "metadata": {
        "id": "WoyCuFGhE7hW"
      },
      "source": [
        "## Часть 1: Основы построения решающие дерева (1.5 балла)\n",
        "\n",
        "В этой части все расчёты необходимо реализовывать в виде запрограммированных формул, например, на `numpy`. **Нельзя использовать готовые реализации**. Например, если в задании требуется рассчитать энтропию, то требуется в каком-то виде релизовать расчёт по формуле, но нельзя использовать готовую реализацию `some_module.entropy()`."
      ]
    },
    {
      "cell_type": "code",
      "execution_count": 3,
      "metadata": {
        "id": "Vn4uUG2fE7hW"
      },
      "outputs": [],
      "source": [
        "import numpy as np\n",
        "import pandas as pd\n",
        "import matplotlib.pyplot as plt"
      ]
    },
    {
      "cell_type": "markdown",
      "metadata": {
        "id": "sNYcZIPGE7hY"
      },
      "source": [
        "**Задание 1.1 (0.5 балла)** Пусть известно, что в вершину решающего дерева попали 10 объектов, 8 из которых имеют метку класса $k_1$, а 2 имеют метку класса $k_2$. Рассчитайте энтропию такого распределения классов (с натуральным логарифмом). Ответ округлите до двух знаков после запятой."
      ]
    },
    {
      "cell_type": "code",
      "execution_count": 4,
      "metadata": {
        "colab": {
          "base_uri": "https://localhost:8080/"
        },
        "id": "J_TN2UQkE7hY",
        "outputId": "3c99ecfe-20cc-4b81-8542-a92bea9ce955"
      },
      "outputs": [
        {
          "output_type": "execute_result",
          "data": {
            "text/plain": [
              "0.5"
            ]
          },
          "metadata": {},
          "execution_count": 4
        }
      ],
      "source": [
        "p1 = 8 / 10\n",
        "p2 = 2 / 10\n",
        "\n",
        "entropy = - p1 * np.log(p1) - p2 * np.log(p2)\n",
        "round(entropy, 2)"
      ]
    },
    {
      "cell_type": "markdown",
      "metadata": {
        "id": "3xDDtA8BE7hY"
      },
      "source": [
        "**Задание 1.2 (0.5 балла)** Пусть дополнительно известно, что вершина из предыдущего задания не является листовой и возможно такое разбиение, что в левое поддерево попадут все объекты класса $k_1$, а в правое - класса $k_2$. Посчитайте критерий информативности:\n",
        "\n",
        "$$\n",
        "Q(R_m, j, t) = H(R_m) - \\frac{|R_\\ell|}{|R_m|}H(R_\\ell) - \\frac{|R_r|}{|R_m|}H(R_r),\n",
        "$$\n",
        "\n",
        "где $R_m$ - множество объектов в разбиваемой вершине, $j$ - номер признака, по которому происходит разбиение, $t$ - порог разбиения, $R_\\ell$ - множество объектов в левом поддереве, $R_r$ - множество объектов в правом поддереве.\n",
        "\n",
        "Теперь в качестве $H(R)$ будем использовать индекс Джини:\n",
        "\n",
        "$$\n",
        "H(R) = \\sum_{k=1}^J p_k(1-p_k),\n",
        "$$\n",
        "где $J$ – общее количество классов (в нашем случае, $J = 2$).\n",
        "\n",
        "Ответ округлите до двух знаков после запятой."
      ]
    },
    {
      "cell_type": "code",
      "execution_count": 5,
      "metadata": {
        "colab": {
          "base_uri": "https://localhost:8080/"
        },
        "id": "jieU4-k8E7hZ",
        "outputId": "6f58209d-fb80-4457-c172-e6afd933f949"
      },
      "outputs": [
        {
          "output_type": "execute_result",
          "data": {
            "text/plain": [
              "0.32"
            ]
          },
          "metadata": {},
          "execution_count": 5
        }
      ],
      "source": [
        "Hm = p1*(1-p1) + p2*(1-p2)\n",
        "\n",
        "q = Hm - p1*0 - p2*0\n",
        "round(q, 2)"
      ]
    },
    {
      "cell_type": "markdown",
      "metadata": {
        "id": "lDp-Blb2E7hZ"
      },
      "source": [
        "**Задание 1.3 (0.5 балла)** Пусть при построении дерева образовалась листовая вершина с 10 объектами, значения целевой переменной для которых следующие: [1, 10, 5, 18, 100, 30, 50, 61, 84, 47] (решается задача регрессии). Чему будут равны предсказания модели для этих объектов?"
      ]
    },
    {
      "cell_type": "code",
      "execution_count": 6,
      "metadata": {
        "id": "8Od-s0O0E7hZ",
        "colab": {
          "base_uri": "https://localhost:8080/"
        },
        "outputId": "ba0b8396-775f-4391-f74b-ff9fa722cba4"
      },
      "outputs": [
        {
          "output_type": "execute_result",
          "data": {
            "text/plain": [
              "40.6"
            ]
          },
          "metadata": {},
          "execution_count": 6
        }
      ],
      "source": [
        "a = [1, 10, 5, 18, 100, 30, 50, 61, 84, 47]\n",
        "np.mean(a)"
      ]
    },
    {
      "cell_type": "markdown",
      "metadata": {
        "id": "R8-vhGveE7hZ"
      },
      "source": [
        "## Часть 2: Решающие деревья (4.5 балла)\n",
        "\n",
        "В этой части мы напишем и протестируем собственную реализацию решающего дерева."
      ]
    },
    {
      "cell_type": "code",
      "execution_count": 7,
      "metadata": {
        "id": "nondlWy0E7ha"
      },
      "outputs": [],
      "source": [
        "from collections import Counter\n",
        "from typing import Dict, List, Tuple, Union"
      ]
    },
    {
      "cell_type": "markdown",
      "metadata": {
        "id": "8_t_ZiKNE7ha"
      },
      "source": [
        "**Задание 2.1 (1.5 балла)** Реализуйте функцию `find_best_split()`, которая должна находить оптимальное разбиение подмножества обучающей выборки в соответствии с информационным критерием из **Задания 1.2**. В качестве меры хаотичности $H(R)$ для задачи регрессии испольуйте дисперсию подвыборки, а для задачи классификации – критерий Джини (определён в том же задании).\n",
        "\n",
        "Для категориальных признаков применяется наивный алгоритм разбиения: мы пытаемся найти одно значение, разбиение по которому сильнее всего увеличит критерий информативности. Иными словами, объекты с конкретным значением признака отправляем в левое поддерево, остальные - в правое. Обратите внимание, что это далеко не оптимальные способ учёта категориальных признаков. Например, можно было бы на каждое значение категориального признака создавать отдельное поддерево или использовать более сложные подходы. Подробнее об этом можно прочитать в конспектах [лекций](https://github.com/esokolov/ml-course-hse/blob/master/2019-fall/lecture-notes/lecture07-trees.pdf) по машинному обучению на ПМИ (раздел «Учёт категориальных признаков»).\n",
        "\n",
        "В качестве подсказок реализации можете пользоваться кодом из бонусной части семинара по решающим деревьям.\n",
        "\n",
        "**Бонус:** Разрешается делать цикл для перебора порогов, но возможна имплементация без него. За имплементацию без цикла – **бонус 1 балл**."
      ]
    },
    {
      "cell_type": "code",
      "execution_count": 117,
      "metadata": {
        "id": "qRz8gNyrE7ha"
      },
      "outputs": [],
      "source": [
        "def find_best_split(\n",
        "    feature_vector: Union[np.ndarray, pd.DataFrame],\n",
        "    target_vector: Union[np.ndarray, pd.Series],\n",
        "    task: str = \"classification\",\n",
        "    feature_type: str = \"real\"\n",
        ") -> Tuple[np.ndarray, np.ndarray, float, float]:\n",
        "    \"\"\"\n",
        "    Указания:\n",
        "    * Пороги, приводящие к попаданию в одно из поддеревьев пустого множества объектов, не рассматриваются.\n",
        "    * В качестве порогов, нужно брать среднее двух сосдених (при сортировке) значений признака\n",
        "    * Поведение функции в случае константного признака может быть любым.\n",
        "    * При одинаковых приростах Джини или дисперсии нужно выбирать минимальный сплит.\n",
        "    * За наличие в функции циклов балл будет снижен. Векторизуйте! :)\n",
        "\n",
        "    :param feature_vector: вещественнозначный вектор значений признака\n",
        "    :param target_vector: вектор классов объектов,  len(feature_vector) == len(target_vector)\n",
        "    :param task: либо `classification`, либо `regression`\n",
        "    :param feature_type: либо `real`, либо `categorical`\n",
        "\n",
        "    :return thresholds: отсортированный по возрастанию вектор со всеми возможными порогами, по которым объекты можно\n",
        "     разделить на две различные подвыборки, или поддерева\n",
        "    :return ginis: вектор со значениями критерия Джини для каждого из порогов в thresholds len(ginis) == len(thresholds)\n",
        "    :return threshold_best: оптимальный порог (число)\n",
        "    :return gini_best: оптимальное значение критерия Джини (число)\n",
        "    \"\"\"\n",
        "\n",
        "    def crit(target, l, r):\n",
        "        if task=='classification':\n",
        "            target1 = target.value_counts(normalize=True)\n",
        "            r1 = r.value_counts(normalize=True)\n",
        "            l1 = l.value_counts(normalize=True)\n",
        "            return sum([p*(1-p) for p in target1]) - len(r)/len(target) * sum([p*(1-p) for p in r1]) - len(l)/len(target) * sum([p*(1-p) for p in l1])\n",
        "        else:\n",
        "            return target.var() - len(r)/len(target) * r.var() - len(l)/len(target) * l.var()\n",
        "\n",
        "\n",
        "    if feature_type == \"real\":\n",
        "        feats_vals = np.unique(feature_vector)\n",
        "        thresholds = np.array([(feats_vals[i] + feats_vals[i+1]) / 2 for i in range(len(feats_vals)-1)])\n",
        "        ginis = []\n",
        "        best_gini = float('inf')\n",
        "        best_threshold = None\n",
        "        for threshold in thresholds:\n",
        "            r = target_vector[feature_vector <= threshold]\n",
        "            l = target_vector[feature_vector > threshold]\n",
        "            gini = crit(target_vector, l, r)\n",
        "            ginis.append(gini)\n",
        "            if gini < best_gini:\n",
        "                best_gini = gini\n",
        "                best_threshold = threshold\n",
        "    else:\n",
        "        thresholds = np.unique(feature_vector)\n",
        "        ginis = []\n",
        "        best_gini = float('inf')\n",
        "        best_category = None\n",
        "        for threshold in thresholds:\n",
        "            r = target_vector[feature_vector == threshold]\n",
        "            l = target_vector[feature_vector != threshold]\n",
        "            help.append(len(r))\n",
        "            gini = crit(target_vector, l, r)\n",
        "            ginis.append(gini)\n",
        "            if gini < best_gini:\n",
        "                best_gini = gini\n",
        "                best_threshold = threshold\n",
        "\n",
        "    return thresholds, np.array(ginis), best_threshold, best_gini"
      ]
    },
    {
      "cell_type": "markdown",
      "metadata": {
        "id": "FpLPMvfLE7ha"
      },
      "source": [
        "Эту функцию можно протестировать на датасете `California`."
      ]
    },
    {
      "cell_type": "code",
      "execution_count": 118,
      "metadata": {
        "id": "KvvkjQBeE7ha"
      },
      "outputs": [],
      "source": [
        "from sklearn.datasets import fetch_california_housing"
      ]
    },
    {
      "cell_type": "code",
      "execution_count": 119,
      "metadata": {
        "id": "Ejt7Pf3IE7hb",
        "colab": {
          "base_uri": "https://localhost:8080/",
          "height": 206
        },
        "outputId": "0c78ea0e-7559-4cbc-86f7-eafc435d70c9"
      },
      "outputs": [
        {
          "output_type": "execute_result",
          "data": {
            "text/plain": [
              "   MedInc  HouseAge  AveRooms  AveBedrms  Population  AveOccup  Latitude  \\\n",
              "0  8.3252      41.0  6.984127   1.023810       322.0  2.555556     37.88   \n",
              "1  8.3014      21.0  6.238137   0.971880      2401.0  2.109842     37.86   \n",
              "2  7.2574      52.0  8.288136   1.073446       496.0  2.802260     37.85   \n",
              "3  5.6431      52.0  5.817352   1.073059       558.0  2.547945     37.85   \n",
              "4  3.8462      52.0  6.281853   1.081081       565.0  2.181467     37.85   \n",
              "\n",
              "   Longitude  \n",
              "0    -122.23  \n",
              "1    -122.22  \n",
              "2    -122.24  \n",
              "3    -122.25  \n",
              "4    -122.25  "
            ],
            "text/html": [
              "\n",
              "  <div id=\"df-f070a7ac-559f-435c-b7f1-e4ffbacaed4d\" class=\"colab-df-container\">\n",
              "    <div>\n",
              "<style scoped>\n",
              "    .dataframe tbody tr th:only-of-type {\n",
              "        vertical-align: middle;\n",
              "    }\n",
              "\n",
              "    .dataframe tbody tr th {\n",
              "        vertical-align: top;\n",
              "    }\n",
              "\n",
              "    .dataframe thead th {\n",
              "        text-align: right;\n",
              "    }\n",
              "</style>\n",
              "<table border=\"1\" class=\"dataframe\">\n",
              "  <thead>\n",
              "    <tr style=\"text-align: right;\">\n",
              "      <th></th>\n",
              "      <th>MedInc</th>\n",
              "      <th>HouseAge</th>\n",
              "      <th>AveRooms</th>\n",
              "      <th>AveBedrms</th>\n",
              "      <th>Population</th>\n",
              "      <th>AveOccup</th>\n",
              "      <th>Latitude</th>\n",
              "      <th>Longitude</th>\n",
              "    </tr>\n",
              "  </thead>\n",
              "  <tbody>\n",
              "    <tr>\n",
              "      <th>0</th>\n",
              "      <td>8.3252</td>\n",
              "      <td>41.0</td>\n",
              "      <td>6.984127</td>\n",
              "      <td>1.023810</td>\n",
              "      <td>322.0</td>\n",
              "      <td>2.555556</td>\n",
              "      <td>37.88</td>\n",
              "      <td>-122.23</td>\n",
              "    </tr>\n",
              "    <tr>\n",
              "      <th>1</th>\n",
              "      <td>8.3014</td>\n",
              "      <td>21.0</td>\n",
              "      <td>6.238137</td>\n",
              "      <td>0.971880</td>\n",
              "      <td>2401.0</td>\n",
              "      <td>2.109842</td>\n",
              "      <td>37.86</td>\n",
              "      <td>-122.22</td>\n",
              "    </tr>\n",
              "    <tr>\n",
              "      <th>2</th>\n",
              "      <td>7.2574</td>\n",
              "      <td>52.0</td>\n",
              "      <td>8.288136</td>\n",
              "      <td>1.073446</td>\n",
              "      <td>496.0</td>\n",
              "      <td>2.802260</td>\n",
              "      <td>37.85</td>\n",
              "      <td>-122.24</td>\n",
              "    </tr>\n",
              "    <tr>\n",
              "      <th>3</th>\n",
              "      <td>5.6431</td>\n",
              "      <td>52.0</td>\n",
              "      <td>5.817352</td>\n",
              "      <td>1.073059</td>\n",
              "      <td>558.0</td>\n",
              "      <td>2.547945</td>\n",
              "      <td>37.85</td>\n",
              "      <td>-122.25</td>\n",
              "    </tr>\n",
              "    <tr>\n",
              "      <th>4</th>\n",
              "      <td>3.8462</td>\n",
              "      <td>52.0</td>\n",
              "      <td>6.281853</td>\n",
              "      <td>1.081081</td>\n",
              "      <td>565.0</td>\n",
              "      <td>2.181467</td>\n",
              "      <td>37.85</td>\n",
              "      <td>-122.25</td>\n",
              "    </tr>\n",
              "  </tbody>\n",
              "</table>\n",
              "</div>\n",
              "    <div class=\"colab-df-buttons\">\n",
              "\n",
              "  <div class=\"colab-df-container\">\n",
              "    <button class=\"colab-df-convert\" onclick=\"convertToInteractive('df-f070a7ac-559f-435c-b7f1-e4ffbacaed4d')\"\n",
              "            title=\"Convert this dataframe to an interactive table.\"\n",
              "            style=\"display:none;\">\n",
              "\n",
              "  <svg xmlns=\"http://www.w3.org/2000/svg\" height=\"24px\" viewBox=\"0 -960 960 960\">\n",
              "    <path d=\"M120-120v-720h720v720H120Zm60-500h600v-160H180v160Zm220 220h160v-160H400v160Zm0 220h160v-160H400v160ZM180-400h160v-160H180v160Zm440 0h160v-160H620v160ZM180-180h160v-160H180v160Zm440 0h160v-160H620v160Z\"/>\n",
              "  </svg>\n",
              "    </button>\n",
              "\n",
              "  <style>\n",
              "    .colab-df-container {\n",
              "      display:flex;\n",
              "      gap: 12px;\n",
              "    }\n",
              "\n",
              "    .colab-df-convert {\n",
              "      background-color: #E8F0FE;\n",
              "      border: none;\n",
              "      border-radius: 50%;\n",
              "      cursor: pointer;\n",
              "      display: none;\n",
              "      fill: #1967D2;\n",
              "      height: 32px;\n",
              "      padding: 0 0 0 0;\n",
              "      width: 32px;\n",
              "    }\n",
              "\n",
              "    .colab-df-convert:hover {\n",
              "      background-color: #E2EBFA;\n",
              "      box-shadow: 0px 1px 2px rgba(60, 64, 67, 0.3), 0px 1px 3px 1px rgba(60, 64, 67, 0.15);\n",
              "      fill: #174EA6;\n",
              "    }\n",
              "\n",
              "    .colab-df-buttons div {\n",
              "      margin-bottom: 4px;\n",
              "    }\n",
              "\n",
              "    [theme=dark] .colab-df-convert {\n",
              "      background-color: #3B4455;\n",
              "      fill: #D2E3FC;\n",
              "    }\n",
              "\n",
              "    [theme=dark] .colab-df-convert:hover {\n",
              "      background-color: #434B5C;\n",
              "      box-shadow: 0px 1px 3px 1px rgba(0, 0, 0, 0.15);\n",
              "      filter: drop-shadow(0px 1px 2px rgba(0, 0, 0, 0.3));\n",
              "      fill: #FFFFFF;\n",
              "    }\n",
              "  </style>\n",
              "\n",
              "    <script>\n",
              "      const buttonEl =\n",
              "        document.querySelector('#df-f070a7ac-559f-435c-b7f1-e4ffbacaed4d button.colab-df-convert');\n",
              "      buttonEl.style.display =\n",
              "        google.colab.kernel.accessAllowed ? 'block' : 'none';\n",
              "\n",
              "      async function convertToInteractive(key) {\n",
              "        const element = document.querySelector('#df-f070a7ac-559f-435c-b7f1-e4ffbacaed4d');\n",
              "        const dataTable =\n",
              "          await google.colab.kernel.invokeFunction('convertToInteractive',\n",
              "                                                    [key], {});\n",
              "        if (!dataTable) return;\n",
              "\n",
              "        const docLinkHtml = 'Like what you see? Visit the ' +\n",
              "          '<a target=\"_blank\" href=https://colab.research.google.com/notebooks/data_table.ipynb>data table notebook</a>'\n",
              "          + ' to learn more about interactive tables.';\n",
              "        element.innerHTML = '';\n",
              "        dataTable['output_type'] = 'display_data';\n",
              "        await google.colab.output.renderOutput(dataTable, element);\n",
              "        const docLink = document.createElement('div');\n",
              "        docLink.innerHTML = docLinkHtml;\n",
              "        element.appendChild(docLink);\n",
              "      }\n",
              "    </script>\n",
              "  </div>\n",
              "\n",
              "\n",
              "<div id=\"df-0b376e4b-9e15-4e1f-8c98-a4964a8b8116\">\n",
              "  <button class=\"colab-df-quickchart\" onclick=\"quickchart('df-0b376e4b-9e15-4e1f-8c98-a4964a8b8116')\"\n",
              "            title=\"Suggest charts\"\n",
              "            style=\"display:none;\">\n",
              "\n",
              "<svg xmlns=\"http://www.w3.org/2000/svg\" height=\"24px\"viewBox=\"0 0 24 24\"\n",
              "     width=\"24px\">\n",
              "    <g>\n",
              "        <path d=\"M19 3H5c-1.1 0-2 .9-2 2v14c0 1.1.9 2 2 2h14c1.1 0 2-.9 2-2V5c0-1.1-.9-2-2-2zM9 17H7v-7h2v7zm4 0h-2V7h2v10zm4 0h-2v-4h2v4z\"/>\n",
              "    </g>\n",
              "</svg>\n",
              "  </button>\n",
              "\n",
              "<style>\n",
              "  .colab-df-quickchart {\n",
              "      --bg-color: #E8F0FE;\n",
              "      --fill-color: #1967D2;\n",
              "      --hover-bg-color: #E2EBFA;\n",
              "      --hover-fill-color: #174EA6;\n",
              "      --disabled-fill-color: #AAA;\n",
              "      --disabled-bg-color: #DDD;\n",
              "  }\n",
              "\n",
              "  [theme=dark] .colab-df-quickchart {\n",
              "      --bg-color: #3B4455;\n",
              "      --fill-color: #D2E3FC;\n",
              "      --hover-bg-color: #434B5C;\n",
              "      --hover-fill-color: #FFFFFF;\n",
              "      --disabled-bg-color: #3B4455;\n",
              "      --disabled-fill-color: #666;\n",
              "  }\n",
              "\n",
              "  .colab-df-quickchart {\n",
              "    background-color: var(--bg-color);\n",
              "    border: none;\n",
              "    border-radius: 50%;\n",
              "    cursor: pointer;\n",
              "    display: none;\n",
              "    fill: var(--fill-color);\n",
              "    height: 32px;\n",
              "    padding: 0;\n",
              "    width: 32px;\n",
              "  }\n",
              "\n",
              "  .colab-df-quickchart:hover {\n",
              "    background-color: var(--hover-bg-color);\n",
              "    box-shadow: 0 1px 2px rgba(60, 64, 67, 0.3), 0 1px 3px 1px rgba(60, 64, 67, 0.15);\n",
              "    fill: var(--button-hover-fill-color);\n",
              "  }\n",
              "\n",
              "  .colab-df-quickchart-complete:disabled,\n",
              "  .colab-df-quickchart-complete:disabled:hover {\n",
              "    background-color: var(--disabled-bg-color);\n",
              "    fill: var(--disabled-fill-color);\n",
              "    box-shadow: none;\n",
              "  }\n",
              "\n",
              "  .colab-df-spinner {\n",
              "    border: 2px solid var(--fill-color);\n",
              "    border-color: transparent;\n",
              "    border-bottom-color: var(--fill-color);\n",
              "    animation:\n",
              "      spin 1s steps(1) infinite;\n",
              "  }\n",
              "\n",
              "  @keyframes spin {\n",
              "    0% {\n",
              "      border-color: transparent;\n",
              "      border-bottom-color: var(--fill-color);\n",
              "      border-left-color: var(--fill-color);\n",
              "    }\n",
              "    20% {\n",
              "      border-color: transparent;\n",
              "      border-left-color: var(--fill-color);\n",
              "      border-top-color: var(--fill-color);\n",
              "    }\n",
              "    30% {\n",
              "      border-color: transparent;\n",
              "      border-left-color: var(--fill-color);\n",
              "      border-top-color: var(--fill-color);\n",
              "      border-right-color: var(--fill-color);\n",
              "    }\n",
              "    40% {\n",
              "      border-color: transparent;\n",
              "      border-right-color: var(--fill-color);\n",
              "      border-top-color: var(--fill-color);\n",
              "    }\n",
              "    60% {\n",
              "      border-color: transparent;\n",
              "      border-right-color: var(--fill-color);\n",
              "    }\n",
              "    80% {\n",
              "      border-color: transparent;\n",
              "      border-right-color: var(--fill-color);\n",
              "      border-bottom-color: var(--fill-color);\n",
              "    }\n",
              "    90% {\n",
              "      border-color: transparent;\n",
              "      border-bottom-color: var(--fill-color);\n",
              "    }\n",
              "  }\n",
              "</style>\n",
              "\n",
              "  <script>\n",
              "    async function quickchart(key) {\n",
              "      const quickchartButtonEl =\n",
              "        document.querySelector('#' + key + ' button');\n",
              "      quickchartButtonEl.disabled = true;  // To prevent multiple clicks.\n",
              "      quickchartButtonEl.classList.add('colab-df-spinner');\n",
              "      try {\n",
              "        const charts = await google.colab.kernel.invokeFunction(\n",
              "            'suggestCharts', [key], {});\n",
              "      } catch (error) {\n",
              "        console.error('Error during call to suggestCharts:', error);\n",
              "      }\n",
              "      quickchartButtonEl.classList.remove('colab-df-spinner');\n",
              "      quickchartButtonEl.classList.add('colab-df-quickchart-complete');\n",
              "    }\n",
              "    (() => {\n",
              "      let quickchartButtonEl =\n",
              "        document.querySelector('#df-0b376e4b-9e15-4e1f-8c98-a4964a8b8116 button');\n",
              "      quickchartButtonEl.style.display =\n",
              "        google.colab.kernel.accessAllowed ? 'block' : 'none';\n",
              "    })();\n",
              "  </script>\n",
              "</div>\n",
              "    </div>\n",
              "  </div>\n"
            ],
            "application/vnd.google.colaboratory.intrinsic+json": {
              "type": "dataframe",
              "variable_name": "X",
              "summary": "{\n  \"name\": \"X\",\n  \"rows\": 20640,\n  \"fields\": [\n    {\n      \"column\": \"MedInc\",\n      \"properties\": {\n        \"dtype\": \"number\",\n        \"std\": 1.8998217179452688,\n        \"min\": 0.4999,\n        \"max\": 15.0001,\n        \"num_unique_values\": 12928,\n        \"samples\": [\n          5.0286,\n          2.0433,\n          6.1228\n        ],\n        \"semantic_type\": \"\",\n        \"description\": \"\"\n      }\n    },\n    {\n      \"column\": \"HouseAge\",\n      \"properties\": {\n        \"dtype\": \"number\",\n        \"std\": 12.58555761211165,\n        \"min\": 1.0,\n        \"max\": 52.0,\n        \"num_unique_values\": 52,\n        \"samples\": [\n          35.0,\n          25.0,\n          7.0\n        ],\n        \"semantic_type\": \"\",\n        \"description\": \"\"\n      }\n    },\n    {\n      \"column\": \"AveRooms\",\n      \"properties\": {\n        \"dtype\": \"number\",\n        \"std\": 2.4741731394243187,\n        \"min\": 0.8461538461538461,\n        \"max\": 141.9090909090909,\n        \"num_unique_values\": 19392,\n        \"samples\": [\n          6.111269614835948,\n          5.912820512820513,\n          5.7924528301886795\n        ],\n        \"semantic_type\": \"\",\n        \"description\": \"\"\n      }\n    },\n    {\n      \"column\": \"AveBedrms\",\n      \"properties\": {\n        \"dtype\": \"number\",\n        \"std\": 0.473910856795466,\n        \"min\": 0.3333333333333333,\n        \"max\": 34.06666666666667,\n        \"num_unique_values\": 14233,\n        \"samples\": [\n          0.9906542056074766,\n          1.112099644128114,\n          1.0398230088495575\n        ],\n        \"semantic_type\": \"\",\n        \"description\": \"\"\n      }\n    },\n    {\n      \"column\": \"Population\",\n      \"properties\": {\n        \"dtype\": \"number\",\n        \"std\": 1132.462121765341,\n        \"min\": 3.0,\n        \"max\": 35682.0,\n        \"num_unique_values\": 3888,\n        \"samples\": [\n          4169.0,\n          636.0,\n          3367.0\n        ],\n        \"semantic_type\": \"\",\n        \"description\": \"\"\n      }\n    },\n    {\n      \"column\": \"AveOccup\",\n      \"properties\": {\n        \"dtype\": \"number\",\n        \"std\": 10.386049562213618,\n        \"min\": 0.6923076923076923,\n        \"max\": 1243.3333333333333,\n        \"num_unique_values\": 18841,\n        \"samples\": [\n          2.6939799331103678,\n          3.559375,\n          3.297082228116711\n        ],\n        \"semantic_type\": \"\",\n        \"description\": \"\"\n      }\n    },\n    {\n      \"column\": \"Latitude\",\n      \"properties\": {\n        \"dtype\": \"number\",\n        \"std\": 2.1359523974571153,\n        \"min\": 32.54,\n        \"max\": 41.95,\n        \"num_unique_values\": 862,\n        \"samples\": [\n          33.7,\n          34.41,\n          38.24\n        ],\n        \"semantic_type\": \"\",\n        \"description\": \"\"\n      }\n    },\n    {\n      \"column\": \"Longitude\",\n      \"properties\": {\n        \"dtype\": \"number\",\n        \"std\": 2.0035317235025882,\n        \"min\": -124.35,\n        \"max\": -114.31,\n        \"num_unique_values\": 844,\n        \"samples\": [\n          -118.63,\n          -119.86,\n          -121.26\n        ],\n        \"semantic_type\": \"\",\n        \"description\": \"\"\n      }\n    }\n  ]\n}"
            }
          },
          "metadata": {},
          "execution_count": 119
        }
      ],
      "source": [
        "data = fetch_california_housing()\n",
        "X = pd.DataFrame(data=data[\"data\"], columns=data[\"feature_names\"])\n",
        "y = data[\"target\"]\n",
        "X.head()"
      ]
    },
    {
      "cell_type": "code",
      "execution_count": 120,
      "metadata": {
        "id": "S_k1gkvlE7hc",
        "colab": {
          "base_uri": "https://localhost:8080/"
        },
        "outputId": "941cf845-dd2d-4455-9253-966545c87606"
      },
      "outputs": [
        {
          "output_type": "execute_result",
          "data": {
            "text/plain": [
              "array([4.526, 3.585, 3.521, ..., 0.923, 0.847, 0.894])"
            ]
          },
          "metadata": {},
          "execution_count": 120
        }
      ],
      "source": [
        "y"
      ]
    },
    {
      "cell_type": "markdown",
      "metadata": {
        "id": "HRUWtSL3E7hc"
      },
      "source": [
        "Выведите график зависимости значения критерия ошибки от порогового значения при разбиении вершины по признаку `MedInc`."
      ]
    },
    {
      "cell_type": "code",
      "source": [
        "thresholds, ginis, best_threshold, best_gini = find_best_split(X['MedInc'], y, task='regression', feature_type='real')\n",
        "\n",
        "plt.figure(figsize=(10, 6))\n",
        "plt.plot(thresholds, ginis)\n",
        "plt.xlabel('Threshold')\n",
        "plt.ylabel('Gini criteria')\n",
        "plt.show()"
      ],
      "metadata": {
        "colab": {
          "base_uri": "https://localhost:8080/",
          "height": 542
        },
        "id": "AyIa4B4jPaFN",
        "outputId": "f48d89f4-c24d-4b32-ed00-bf80d326c3a0"
      },
      "execution_count": 121,
      "outputs": [
        {
          "output_type": "display_data",
          "data": {
            "text/plain": [
              "<Figure size 1000x600 with 1 Axes>"
            ],
            "image/png": "[encoded data removed]"
          },
          "metadata": {}
        }
      ]
    },
    {
      "cell_type": "markdown",
      "metadata": {
        "id": "xCvCR9XPE7hc"
      },
      "source": [
        "Найдите лучший, с вашей точки зрения, предикат первой вершины решающего дерева."
      ]
    },
    {
      "cell_type": "code",
      "execution_count": 122,
      "metadata": {
        "id": "3P-wqVS4E7hc",
        "colab": {
          "base_uri": "https://localhost:8080/"
        },
        "outputId": "f10e27f0-b2c7-4b4b-ca58-364fcbba3aba"
      },
      "outputs": [
        {
          "output_type": "execute_result",
          "data": {
            "text/plain": [
              "0.51795"
            ]
          },
          "metadata": {},
          "execution_count": 122
        }
      ],
      "source": [
        "best_threshold"
      ]
    },
    {
      "cell_type": "code",
      "source": [
        "col_ginis = []\n",
        "col_thresh = []\n",
        "for col in X.columns:\n",
        "  thresholds, ginis, best_threshold, best_gini = find_best_split(X[col], y, task='regression', feature_type='real')\n",
        "  col_ginis.append(best_gini)\n",
        "  col_thresh.append([best_threshold, col])\n",
        "\n",
        "col_thresh[np.argmin(col_ginis)]"
      ],
      "metadata": {
        "colab": {
          "base_uri": "https://localhost:8080/"
        },
        "id": "7BtpiMvkqPuV",
        "outputId": "48c0f4bb-a846-463e-b377-9a4cd5b0de1f"
      },
      "execution_count": 128,
      "outputs": [
        {
          "output_type": "execute_result",
          "data": {
            "text/plain": [
              "[1.0155971479500892, 'AveOccup']"
            ]
          },
          "metadata": {},
          "execution_count": 128
        }
      ]
    },
    {
      "cell_type": "markdown",
      "metadata": {
        "id": "r-eOpvZfE7hc"
      },
      "source": [
        "**Задание 2.2 (1 балл)** Разберитесь с написанным кодом решающего дерева, заполните пропуски в коде и реализуйте недостающий метод `_predict_node()`.\n",
        "\n",
        "Построение дерева осуществляется согласно базовому жадному алгоритму, предложенному в лекции в разделе «Построение дерева».\n",
        "- **Выбор лучшего разбиения** необходимо производить по критерию Джини.\n",
        "- **Критерий останова:** все объекты в листе относятся к одному классу или ни по одному признаку нельзя разбить выборку.\n",
        "- **Ответ в листе:** наиболее часто встречающийся класс в листе.\n",
        "\n",
        "В задаче также предлагается получить два бонуса, по баллу на каждый!\n",
        "\n",
        "- **Реализуйте способ обрабатывать пропуски в даннх и реализуйте его, пояснив свои действия.**\n",
        "- **Реализуйте метод оценки важности признаков.**"
      ]
    },
    {
      "cell_type": "code",
      "execution_count": null,
      "metadata": {
        "id": "z6pUqGzgE7hc"
      },
      "outputs": [],
      "source": [
        "class DecisionTree:\n",
        "\n",
        "    def __init__(\n",
        "        self,\n",
        "        feature_types: Union[List[str], np.ndarray],\n",
        "        max_depth: int = None,\n",
        "        min_samples_split: int = None,\n",
        "        min_samples_leaf: int = None,\n",
        "        task: str = \"classification\"\n",
        "    ) -> None:\n",
        "\n",
        "        if np.any(list(map(lambda x: x != \"real\" and x != \"categorical\", feature_types))):\n",
        "            raise ValueError(\"There is unknown feature type\")\n",
        "\n",
        "        # В этой переменной будем хранить узлы решающего дерева. Каждая вершина хранит в себе идентификатор того,\n",
        "        # является ли она листовой. Листовые вершины хранят значение класса для предсказания, нелистовые - правого и\n",
        "        # левого детей (поддеревья для продолжения процедуры предсказания)\n",
        "        self._tree = {}\n",
        "\n",
        "        # типы признаков (категориальные или числовые)\n",
        "        self._feature_types = feature_types\n",
        "\n",
        "        # гиперпараметры дерева\n",
        "        self._max_depth = max_depth\n",
        "        self._min_samples_split = min_samples_split\n",
        "        self._min_samples_leaf = min_samples_leaf\n",
        "        self.task = task\n",
        "\n",
        "        # Переменная, если вы решите делать бонус\n",
        "        self._feature_importances = {}\n",
        "\n",
        "\n",
        "    def _fit_node(\n",
        "        self,\n",
        "        sub_X: np.ndarray,\n",
        "        sub_y: np.ndarray,\n",
        "        node: dict\n",
        "    ) -> None:\n",
        "\n",
        "        # критерий останова\n",
        "        if np.all(sub_y == sub_y[0]):\n",
        "            node[\"type\"] = \"terminal\"\n",
        "            node[\"class\"] = sub_y[0]\n",
        "            return\n",
        "\n",
        "        feature_best, threshold_best, gini_best, split = None, None, None, None\n",
        "        for feature in range(sub_X.shape[1]):\n",
        "            feature_type = self._feature_types[feature]\n",
        "            categories_map = {}\n",
        "\n",
        "            # подготавливаем признак для поиска оптимального порога\n",
        "            if feature_type == \"real\":\n",
        "                feature_vector = sub_X[:, feature]\n",
        "            elif feature_type == \"categorical\":\n",
        "                # здесь могла быть реализация более сложного подхода к обработке категориального признака\n",
        "                feature_vector = sub_X[:, feature]\n",
        "\n",
        "            # ищем оптимальный порог\n",
        "            _, _, threshold, gini = find_best_split(feature_vector, sub_y, self.task, feature_type)\n",
        "\n",
        "            if gini_best is None or gini > gini_best:\n",
        "                feature_best = feature\n",
        "                gini_best = gini\n",
        "\n",
        "                # split - маска на объекты, которые должны попасть в левое поддерево\n",
        "                if feature_type == \"real\":\n",
        "                    threshold_best = threshold\n",
        "                    split = feature_vector <= threshold_best\n",
        "                elif feature_type == \"categorical\":\n",
        "                    # в данной реализации это просто значение категории\n",
        "                    threshold_best = threshold\n",
        "                    split = feature_vector == threshold_best\n",
        "                else:\n",
        "                    raise ValueError\n",
        "\n",
        "        # записываем полученные сплиты в атрибуты класса\n",
        "        if feature_best is None:\n",
        "            node[\"type\"] = \"terminal\"\n",
        "            node[\"class\"] = Counter(sub_y).most_common(1)[0][0]\n",
        "            return\n",
        "\n",
        "        node[\"type\"] = \"nonterminal\"\n",
        "\n",
        "        node[\"feature_split\"] = feature_best\n",
        "        if self._feature_types[feature_best] == \"real\":\n",
        "            node[\"threshold\"] = threshold_best\n",
        "        elif self._feature_types[feature_best] == \"categorical\":\n",
        "            node[\"category_split\"] = threshold_best\n",
        "        else:\n",
        "            raise ValueError\n",
        "\n",
        "        node[\"left_child\"], node[\"right_child\"] = {}, {}\n",
        "        self._fit_node(sub_X[split], sub_y[split], node[\"left_child\"])\n",
        "        self._fit_node(sub_X[np.logical_not(split)], sub_y[np.logical_not(split)], node[\"right_child\"])\n",
        "\n",
        "    def _predict_node(self, x: np.ndarray, node: dict) -> int:\n",
        "        \"\"\"\n",
        "        Предсказание начинается с корневой вершины дерева и рекурсивно идёт в левое или правое поддерево в зависимости от значения\n",
        "        предиката на объекте. Листовая вершина возвращает предсказание.\n",
        "        :param x: np.array, элемент выборки\n",
        "        :param node: dict, вершина дерева\n",
        "        \"\"\"\n",
        "        if node[\"type\"] == \"terminal\":\n",
        "            return node[\"class\"]\n",
        "        feature_split = node[\"feature_split\"]\n",
        "\n",
        "        if self._feature_types[feature_split] == \"real\":\n",
        "            if x[feature_split] <= node[\"threshold\"]:\n",
        "                return self._predict_node(x, node[\"left_child\"])\n",
        "            else:\n",
        "                return self._predict_node(x, node[\"right_child\"])\n",
        "\n",
        "        elif self._feature_types[feature_split] == \"categorical\":\n",
        "            if x[feature_split] == node[\"category_split\"]:\n",
        "                return self._predict_node(x, node[\"left_child\"])\n",
        "            else:\n",
        "                return self._predict_node(x, node[\"right_child\"])\n",
        "        else:\n",
        "            raise ValueError\n",
        "\n",
        "\n",
        "    def fit(self, X: np.ndarray, y: np.ndarray) -> None:\n",
        "        self._fit_node(X, y, self._tree)\n",
        "\n",
        "    def predict(self, X: np.ndarray) -> np.ndarray:\n",
        "        predicted = []\n",
        "        for x in X:\n",
        "            predicted.append(self._predict_node(x, self._tree))\n",
        "\n",
        "        return np.array(predicted)"
      ]
    },
    {
      "cell_type": "markdown",
      "metadata": {
        "id": "jshbEmzQE7hd"
      },
      "source": [
        "**Задание 2.3 (1 балл)** Загрузите таблицу `students.csv` (это немного преобразованный датасет [User Knowledge](https://archive.ics.uci.edu/ml/datasets/User+Knowledge+Modeling)). В ней признаки объекта записаны в первых пяти столбцах, а в последнем записана целевая переменная (класс: 0 или 1). Постройте на одном изображении пять кривых \"порог — значение критерия Джини\" для всех пяти признаков. Отдельно визуализируйте диаграммы рассеяния \"значение признака — класс\" для всех пяти признаков."
      ]
    },
    {
      "cell_type": "code",
      "execution_count": 123,
      "metadata": {
        "id": "KVz2maS9E7hd",
        "colab": {
          "base_uri": "https://localhost:8080/",
          "height": 206
        },
        "outputId": "84cba984-b788-4feb-e10b-9f31fe8b807f"
      },
      "outputs": [
        {
          "output_type": "execute_result",
          "data": {
            "text/plain": [
              "    STG   SCG   STR   LPR   PEG  UNS\n",
              "0  0.00  0.00  0.00  0.00  0.00    0\n",
              "1  0.08  0.08  0.10  0.24  0.90    1\n",
              "2  0.06  0.06  0.05  0.25  0.33    0\n",
              "3  0.10  0.10  0.15  0.65  0.30    1\n",
              "4  0.08  0.08  0.08  0.98  0.24    0"
            ],
            "text/html": [
              "\n",
              "  <div id=\"df-144dcbdc-354c-43a8-bf50-5935f54faac6\" class=\"colab-df-container\">\n",
              "    <div>\n",
              "<style scoped>\n",
              "    .dataframe tbody tr th:only-of-type {\n",
              "        vertical-align: middle;\n",
              "    }\n",
              "\n",
              "    .dataframe tbody tr th {\n",
              "        vertical-align: top;\n",
              "    }\n",
              "\n",
              "    .dataframe thead th {\n",
              "        text-align: right;\n",
              "    }\n",
              "</style>\n",
              "<table border=\"1\" class=\"dataframe\">\n",
              "  <thead>\n",
              "    <tr style=\"text-align: right;\">\n",
              "      <th></th>\n",
              "      <th>STG</th>\n",
              "      <th>SCG</th>\n",
              "      <th>STR</th>\n",
              "      <th>LPR</th>\n",
              "      <th>PEG</th>\n",
              "      <th>UNS</th>\n",
              "    </tr>\n",
              "  </thead>\n",
              "  <tbody>\n",
              "    <tr>\n",
              "      <th>0</th>\n",
              "      <td>0.00</td>\n",
              "      <td>0.00</td>\n",
              "      <td>0.00</td>\n",
              "      <td>0.00</td>\n",
              "      <td>0.00</td>\n",
              "      <td>0</td>\n",
              "    </tr>\n",
              "    <tr>\n",
              "      <th>1</th>\n",
              "      <td>0.08</td>\n",
              "      <td>0.08</td>\n",
              "      <td>0.10</td>\n",
              "      <td>0.24</td>\n",
              "      <td>0.90</td>\n",
              "      <td>1</td>\n",
              "    </tr>\n",
              "    <tr>\n",
              "      <th>2</th>\n",
              "      <td>0.06</td>\n",
              "      <td>0.06</td>\n",
              "      <td>0.05</td>\n",
              "      <td>0.25</td>\n",
              "      <td>0.33</td>\n",
              "      <td>0</td>\n",
              "    </tr>\n",
              "    <tr>\n",
              "      <th>3</th>\n",
              "      <td>0.10</td>\n",
              "      <td>0.10</td>\n",
              "      <td>0.15</td>\n",
              "      <td>0.65</td>\n",
              "      <td>0.30</td>\n",
              "      <td>1</td>\n",
              "    </tr>\n",
              "    <tr>\n",
              "      <th>4</th>\n",
              "      <td>0.08</td>\n",
              "      <td>0.08</td>\n",
              "      <td>0.08</td>\n",
              "      <td>0.98</td>\n",
              "      <td>0.24</td>\n",
              "      <td>0</td>\n",
              "    </tr>\n",
              "  </tbody>\n",
              "</table>\n",
              "</div>\n",
              "    <div class=\"colab-df-buttons\">\n",
              "\n",
              "  <div class=\"colab-df-container\">\n",
              "    <button class=\"colab-df-convert\" onclick=\"convertToInteractive('df-144dcbdc-354c-43a8-bf50-5935f54faac6')\"\n",
              "            title=\"Convert this dataframe to an interactive table.\"\n",
              "            style=\"display:none;\">\n",
              "\n",
              "  <svg xmlns=\"http://www.w3.org/2000/svg\" height=\"24px\" viewBox=\"0 -960 960 960\">\n",
              "    <path d=\"M120-120v-720h720v720H120Zm60-500h600v-160H180v160Zm220 220h160v-160H400v160Zm0 220h160v-160H400v160ZM180-400h160v-160H180v160Zm440 0h160v-160H620v160ZM180-180h160v-160H180v160Zm440 0h160v-160H620v160Z\"/>\n",
              "  </svg>\n",
              "    </button>\n",
              "\n",
              "  <style>\n",
              "    .colab-df-container {\n",
              "      display:flex;\n",
              "      gap: 12px;\n",
              "    }\n",
              "\n",
              "    .colab-df-convert {\n",
              "      background-color: #E8F0FE;\n",
              "      border: none;\n",
              "      border-radius: 50%;\n",
              "      cursor: pointer;\n",
              "      display: none;\n",
              "      fill: #1967D2;\n",
              "      height: 32px;\n",
              "      padding: 0 0 0 0;\n",
              "      width: 32px;\n",
              "    }\n",
              "\n",
              "    .colab-df-convert:hover {\n",
              "      background-color: #E2EBFA;\n",
              "      box-shadow: 0px 1px 2px rgba(60, 64, 67, 0.3), 0px 1px 3px 1px rgba(60, 64, 67, 0.15);\n",
              "      fill: #174EA6;\n",
              "    }\n",
              "\n",
              "    .colab-df-buttons div {\n",
              "      margin-bottom: 4px;\n",
              "    }\n",
              "\n",
              "    [theme=dark] .colab-df-convert {\n",
              "      background-color: #3B4455;\n",
              "      fill: #D2E3FC;\n",
              "    }\n",
              "\n",
              "    [theme=dark] .colab-df-convert:hover {\n",
              "      background-color: #434B5C;\n",
              "      box-shadow: 0px 1px 3px 1px rgba(0, 0, 0, 0.15);\n",
              "      filter: drop-shadow(0px 1px 2px rgba(0, 0, 0, 0.3));\n",
              "      fill: #FFFFFF;\n",
              "    }\n",
              "  </style>\n",
              "\n",
              "    <script>\n",
              "      const buttonEl =\n",
              "        document.querySelector('#df-144dcbdc-354c-43a8-bf50-5935f54faac6 button.colab-df-convert');\n",
              "      buttonEl.style.display =\n",
              "        google.colab.kernel.accessAllowed ? 'block' : 'none';\n",
              "\n",
              "      async function convertToInteractive(key) {\n",
              "        const element = document.querySelector('#df-144dcbdc-354c-43a8-bf50-5935f54faac6');\n",
              "        const dataTable =\n",
              "          await google.colab.kernel.invokeFunction('convertToInteractive',\n",
              "                                                    [key], {});\n",
              "        if (!dataTable) return;\n",
              "\n",
              "        const docLinkHtml = 'Like what you see? Visit the ' +\n",
              "          '<a target=\"_blank\" href=https://colab.research.google.com/notebooks/data_table.ipynb>data table notebook</a>'\n",
              "          + ' to learn more about interactive tables.';\n",
              "        element.innerHTML = '';\n",
              "        dataTable['output_type'] = 'display_data';\n",
              "        await google.colab.output.renderOutput(dataTable, element);\n",
              "        const docLink = document.createElement('div');\n",
              "        docLink.innerHTML = docLinkHtml;\n",
              "        element.appendChild(docLink);\n",
              "      }\n",
              "    </script>\n",
              "  </div>\n",
              "\n",
              "\n",
              "<div id=\"df-8ffcfca2-37be-4a16-8a0d-c29f6d70dd5a\">\n",
              "  <button class=\"colab-df-quickchart\" onclick=\"quickchart('df-8ffcfca2-37be-4a16-8a0d-c29f6d70dd5a')\"\n",
              "            title=\"Suggest charts\"\n",
              "            style=\"display:none;\">\n",
              "\n",
              "<svg xmlns=\"http://www.w3.org/2000/svg\" height=\"24px\"viewBox=\"0 0 24 24\"\n",
              "     width=\"24px\">\n",
              "    <g>\n",
              "        <path d=\"M19 3H5c-1.1 0-2 .9-2 2v14c0 1.1.9 2 2 2h14c1.1 0 2-.9 2-2V5c0-1.1-.9-2-2-2zM9 17H7v-7h2v7zm4 0h-2V7h2v10zm4 0h-2v-4h2v4z\"/>\n",
              "    </g>\n",
              "</svg>\n",
              "  </button>\n",
              "\n",
              "<style>\n",
              "  .colab-df-quickchart {\n",
              "      --bg-color: #E8F0FE;\n",
              "      --fill-color: #1967D2;\n",
              "      --hover-bg-color: #E2EBFA;\n",
              "      --hover-fill-color: #174EA6;\n",
              "      --disabled-fill-color: #AAA;\n",
              "      --disabled-bg-color: #DDD;\n",
              "  }\n",
              "\n",
              "  [theme=dark] .colab-df-quickchart {\n",
              "      --bg-color: #3B4455;\n",
              "      --fill-color: #D2E3FC;\n",
              "      --hover-bg-color: #434B5C;\n",
              "      --hover-fill-color: #FFFFFF;\n",
              "      --disabled-bg-color: #3B4455;\n",
              "      --disabled-fill-color: #666;\n",
              "  }\n",
              "\n",
              "  .colab-df-quickchart {\n",
              "    background-color: var(--bg-color);\n",
              "    border: none;\n",
              "    border-radius: 50%;\n",
              "    cursor: pointer;\n",
              "    display: none;\n",
              "    fill: var(--fill-color);\n",
              "    height: 32px;\n",
              "    padding: 0;\n",
              "    width: 32px;\n",
              "  }\n",
              "\n",
              "  .colab-df-quickchart:hover {\n",
              "    background-color: var(--hover-bg-color);\n",
              "    box-shadow: 0 1px 2px rgba(60, 64, 67, 0.3), 0 1px 3px 1px rgba(60, 64, 67, 0.15);\n",
              "    fill: var(--button-hover-fill-color);\n",
              "  }\n",
              "\n",
              "  .colab-df-quickchart-complete:disabled,\n",
              "  .colab-df-quickchart-complete:disabled:hover {\n",
              "    background-color: var(--disabled-bg-color);\n",
              "    fill: var(--disabled-fill-color);\n",
              "    box-shadow: none;\n",
              "  }\n",
              "\n",
              "  .colab-df-spinner {\n",
              "    border: 2px solid var(--fill-color);\n",
              "    border-color: transparent;\n",
              "    border-bottom-color: var(--fill-color);\n",
              "    animation:\n",
              "      spin 1s steps(1) infinite;\n",
              "  }\n",
              "\n",
              "  @keyframes spin {\n",
              "    0% {\n",
              "      border-color: transparent;\n",
              "      border-bottom-color: var(--fill-color);\n",
              "      border-left-color: var(--fill-color);\n",
              "    }\n",
              "    20% {\n",
              "      border-color: transparent;\n",
              "      border-left-color: var(--fill-color);\n",
              "      border-top-color: var(--fill-color);\n",
              "    }\n",
              "    30% {\n",
              "      border-color: transparent;\n",
              "      border-left-color: var(--fill-color);\n",
              "      border-top-color: var(--fill-color);\n",
              "      border-right-color: var(--fill-color);\n",
              "    }\n",
              "    40% {\n",
              "      border-color: transparent;\n",
              "      border-right-color: var(--fill-color);\n",
              "      border-top-color: var(--fill-color);\n",
              "    }\n",
              "    60% {\n",
              "      border-color: transparent;\n",
              "      border-right-color: var(--fill-color);\n",
              "    }\n",
              "    80% {\n",
              "      border-color: transparent;\n",
              "      border-right-color: var(--fill-color);\n",
              "      border-bottom-color: var(--fill-color);\n",
              "    }\n",
              "    90% {\n",
              "      border-color: transparent;\n",
              "      border-bottom-color: var(--fill-color);\n",
              "    }\n",
              "  }\n",
              "</style>\n",
              "\n",
              "  <script>\n",
              "    async function quickchart(key) {\n",
              "      const quickchartButtonEl =\n",
              "        document.querySelector('#' + key + ' button');\n",
              "      quickchartButtonEl.disabled = true;  // To prevent multiple clicks.\n",
              "      quickchartButtonEl.classList.add('colab-df-spinner');\n",
              "      try {\n",
              "        const charts = await google.colab.kernel.invokeFunction(\n",
              "            'suggestCharts', [key], {});\n",
              "      } catch (error) {\n",
              "        console.error('Error during call to suggestCharts:', error);\n",
              "      }\n",
              "      quickchartButtonEl.classList.remove('colab-df-spinner');\n",
              "      quickchartButtonEl.classList.add('colab-df-quickchart-complete');\n",
              "    }\n",
              "    (() => {\n",
              "      let quickchartButtonEl =\n",
              "        document.querySelector('#df-8ffcfca2-37be-4a16-8a0d-c29f6d70dd5a button');\n",
              "      quickchartButtonEl.style.display =\n",
              "        google.colab.kernel.accessAllowed ? 'block' : 'none';\n",
              "    })();\n",
              "  </script>\n",
              "</div>\n",
              "    </div>\n",
              "  </div>\n"
            ],
            "application/vnd.google.colaboratory.intrinsic+json": {
              "type": "dataframe",
              "variable_name": "students",
              "summary": "{\n  \"name\": \"students\",\n  \"rows\": 258,\n  \"fields\": [\n    {\n      \"column\": \"STG\",\n      \"properties\": {\n        \"dtype\": \"number\",\n        \"std\": 0.21027120159970078,\n        \"min\": 0.0,\n        \"max\": 0.99,\n        \"num_unique_values\": 104,\n        \"samples\": [\n          0.295,\n          0.475,\n          0.465\n        ],\n        \"semantic_type\": \"\",\n        \"description\": \"\"\n      }\n    },\n    {\n      \"column\": \"SCG\",\n      \"properties\": {\n        \"dtype\": \"number\",\n        \"std\": 0.21196232184048855,\n        \"min\": 0.0,\n        \"max\": 0.9,\n        \"num_unique_values\": 89,\n        \"samples\": [\n          0.77,\n          0.69,\n          0.49\n        ],\n        \"semantic_type\": \"\",\n        \"description\": \"\"\n      }\n    },\n    {\n      \"column\": \"STR\",\n      \"properties\": {\n        \"dtype\": \"number\",\n        \"std\": 0.2459397683066402,\n        \"min\": 0.0,\n        \"max\": 0.95,\n        \"num_unique_values\": 83,\n        \"samples\": [\n          0.61,\n          0.0,\n          0.62\n        ],\n        \"semantic_type\": \"\",\n        \"description\": \"\"\n      }\n    },\n    {\n      \"column\": \"LPR\",\n      \"properties\": {\n        \"dtype\": \"number\",\n        \"std\": 0.24810802196816695,\n        \"min\": 0.0,\n        \"max\": 0.99,\n        \"num_unique_values\": 80,\n        \"samples\": [\n          0.64,\n          0.0,\n          0.18\n        ],\n        \"semantic_type\": \"\",\n        \"description\": \"\"\n      }\n    },\n    {\n      \"column\": \"PEG\",\n      \"properties\": {\n        \"dtype\": \"number\",\n        \"std\": 0.25521089251667145,\n        \"min\": 0.0,\n        \"max\": 0.93,\n        \"num_unique_values\": 80,\n        \"samples\": [\n          0.86,\n          0.0,\n          0.82\n        ],\n        \"semantic_type\": \"\",\n        \"description\": \"\"\n      }\n    },\n    {\n      \"column\": \"UNS\",\n      \"properties\": {\n        \"dtype\": \"number\",\n        \"std\": 0,\n        \"min\": 0,\n        \"max\": 1,\n        \"num_unique_values\": 2,\n        \"samples\": [\n          1,\n          0\n        ],\n        \"semantic_type\": \"\",\n        \"description\": \"\"\n      }\n    }\n  ]\n}"
            }
          },
          "metadata": {},
          "execution_count": 123
        }
      ],
      "source": [
        "students = pd.read_csv('students.csv').drop(['Unnamed: 0'], axis=1)\n",
        "\n",
        "students.head()"
      ]
    },
    {
      "cell_type": "code",
      "source": [
        "plt.figure(figsize=(10, 6))\n",
        "\n",
        "for col in students.columns[:-1]:\n",
        "  thresholds, ginis, best_threshold, best_gini = find_best_split(students[col], students['UNS'], task='classification', feature_type='real')\n",
        "  plt.plot(thresholds, ginis, label = col)\n",
        "\n",
        "plt.xlabel('Thresholds')\n",
        "plt.ylabel('Gini criteria')\n",
        "plt.legend()\n",
        "plt.show()"
      ],
      "metadata": {
        "id": "YA8751Q1mWV7",
        "colab": {
          "base_uri": "https://localhost:8080/",
          "height": 542
        },
        "outputId": "e53b91e8-b4d5-4774-df54-69ee6ed04062"
      },
      "execution_count": 124,
      "outputs": [
        {
          "output_type": "display_data",
          "data": {
            "text/plain": [
              "<Figure size 1000x600 with 1 Axes>"
            ],
            "image/png": "[encoded data removed]"
          },
          "metadata": {}
        }
      ]
    },
    {
      "cell_type": "code",
      "source": [
        "fig = plt.figure(figsize=(14, 6))\n",
        "\n",
        "for i in range(5):\n",
        "  plt.subplot(2, 3, i + 1)\n",
        "  plt.subplots_adjust(wspace=0.4, hspace=0.4)\n",
        "\n",
        "  plt.scatter(students.iloc[:, i], students.iloc[:, 5])\n",
        "  plt.title(students.columns[i])\n",
        "\n",
        "\n",
        "plt.tight_layout()\n",
        "plt.show()"
      ],
      "metadata": {
        "colab": {
          "base_uri": "https://localhost:8080/",
          "height": 607
        },
        "id": "XaWT9dTEi3wJ",
        "outputId": "7173260e-321b-41ed-dc44-6a7d248e9768"
      },
      "execution_count": 125,
      "outputs": [
        {
          "output_type": "display_data",
          "data": {
            "text/plain": [
              "<Figure size 1400x600 with 5 Axes>"
            ],
            "image/png": "[encoded data removed]"
          },
          "metadata": {}
        }
      ]
    },
    {
      "cell_type": "markdown",
      "source": [
        "Исходя из кривых значений критерия Джини, по какому признаку нужно производить деление выборки на два поддерева? Согласуется ли этот результат с визуальной оценкой диаграмм рассеяиния? Как бы охарактеризовали вид кривой для \"хороших\" признаков, по которым выборка делится почти идеально? Чем отличаются кривые для признаков, по которым деление практически невозможно?"
      ],
      "metadata": {
        "id": "RbAdrTUd0sWB"
      }
    },
    {
      "cell_type": "markdown",
      "source": [
        "Деление подвыборки нужно производить по критерию PEG, в чём можно убедиться, посмотрев на диаграммы рассеяния: у PEG наблюдается самое точное разделение на 2 класса с маленьким количеством выбросов. В отличие от других признаков, у который добиться точного деления почти невозможно, критерий Джинни у данного признака значительно больше, чем у других признаков, значения критерия Джинни у который в среднем остаётся около 0."
      ],
      "metadata": {
        "id": "yHDd6Pv2lvWh"
      }
    },
    {
      "cell_type": "markdown",
      "metadata": {
        "id": "TExIjZlFE7hd"
      },
      "source": [
        "**Задание 2.4 (1 балл)** Протестируйте свое решающее дерево на датасете [mushrooms](https://archive.ics.uci.edu/ml/datasets/Mushroom).\n",
        "\n",
        "1. Скачайте таблицу `agaricus-lepiota.data` (из [Data Folder](https://archive.ics.uci.edu/ml/machine-learning-databases/mushroom/)),\n",
        "2. Считайте таблицу при помощи `pandas`,\n",
        "3. Примените к каждому столбцу `LabelEncoder` (из `sklearn`), чтобы преобразовать строковые имена категорий в натуральные числа.\n",
        "\n",
        "Первый столбец — это целевая переменная (e — edible, p — poisonous) Мы будем измерять качество с помощью accuracy, так что нам не очень важно, что будет классом 1, а что — классом 0. Обучите решающее дерево на половине случайно выбранных объектов (признаки в датасете категориальные) и сделайте предсказания для оставшейся половины. Вычислите accuracy."
      ]
    },
    {
      "cell_type": "code",
      "execution_count": 129,
      "metadata": {
        "id": "qbiAsGmgE7hd",
        "colab": {
          "base_uri": "https://localhost:8080/"
        },
        "outputId": "8d436a78-448c-4097-da8d-19a91935a577"
      },
      "outputs": [
        {
          "output_type": "stream",
          "name": "stdout",
          "text": [
            "1.0\n"
          ]
        }
      ],
      "source": [
        "from sklearn.model_selection import train_test_split\n",
        "from sklearn.metrics import accuracy_score\n",
        "from sklearn.preprocessing import LabelEncoder\n",
        "from sklearn.tree import DecisionTreeClassifier\n",
        "\n",
        "df = pd.read_csv('agaricus-lepiota.data', sep=',')\n",
        "\n",
        "df = df.apply(LabelEncoder().fit_transform)\n",
        "\n",
        "X_train, X_test, y_train, y_test = train_test_split(df.drop(['p'], axis=1), df['p'], test_size=0.3, random_state=42)\n",
        "\n",
        "dt = DecisionTreeClassifier(random_state=42)\n",
        "dt.fit(X_train, y_train)\n",
        "\n",
        "print(accuracy_score(dt.predict(X_test), y_test))"
      ]
    },
    {
      "cell_type": "markdown",
      "metadata": {
        "id": "46gWQFM5E7he"
      },
      "source": [
        "## Часть 3: Бэггинг и случайный лес (4 балла)"
      ]
    },
    {
      "cell_type": "markdown",
      "metadata": {
        "id": "GOGWkZWrE7he"
      },
      "source": [
        "В данной части мы будем работать [с задачей предсказания диабета у пациента](https://www.kaggle.com/uciml/pima-indians-diabetes-database/data). Посмотрим на работу бэггинга над решающими деревьями и случайного леса, сравним их работу."
      ]
    },
    {
      "cell_type": "code",
      "execution_count": 31,
      "metadata": {
        "id": "fiJdlwUEE7he"
      },
      "outputs": [],
      "source": [
        "from sklearn.ensemble import BaggingClassifier, RandomForestClassifier\n",
        "from sklearn.metrics import accuracy_score, precision_score, recall_score, roc_auc_score\n",
        "from sklearn.model_selection import train_test_split\n",
        "from sklearn.tree import DecisionTreeClassifier"
      ]
    },
    {
      "cell_type": "code",
      "execution_count": 32,
      "metadata": {
        "scrolled": true,
        "id": "XDdp-QaEE7he",
        "colab": {
          "base_uri": "https://localhost:8080/",
          "height": 223
        },
        "outputId": "add61d1f-a5cc-4865-96c4-81e43b76e7d1"
      },
      "outputs": [
        {
          "output_type": "stream",
          "name": "stdout",
          "text": [
            "Dataset shape: (768, 9)\n"
          ]
        },
        {
          "output_type": "execute_result",
          "data": {
            "text/plain": [
              "   Pregnancies  Glucose  BloodPressure  SkinThickness  Insulin   BMI  \\\n",
              "0            6      148             72             35        0  33.6   \n",
              "1            1       85             66             29        0  26.6   \n",
              "2            8      183             64              0        0  23.3   \n",
              "3            1       89             66             23       94  28.1   \n",
              "4            0      137             40             35      168  43.1   \n",
              "\n",
              "   DiabetesPedigreeFunction  Age  Outcome  \n",
              "0                     0.627   50        1  \n",
              "1                     0.351   31        0  \n",
              "2                     0.672   32        1  \n",
              "3                     0.167   21        0  \n",
              "4                     2.288   33        1  "
            ],
            "text/html": [
              "\n",
              "  <div id=\"df-407f2846-951a-470e-b256-491e7d60c8da\" class=\"colab-df-container\">\n",
              "    <div>\n",
              "<style scoped>\n",
              "    .dataframe tbody tr th:only-of-type {\n",
              "        vertical-align: middle;\n",
              "    }\n",
              "\n",
              "    .dataframe tbody tr th {\n",
              "        vertical-align: top;\n",
              "    }\n",
              "\n",
              "    .dataframe thead th {\n",
              "        text-align: right;\n",
              "    }\n",
              "</style>\n",
              "<table border=\"1\" class=\"dataframe\">\n",
              "  <thead>\n",
              "    <tr style=\"text-align: right;\">\n",
              "      <th></th>\n",
              "      <th>Pregnancies</th>\n",
              "      <th>Glucose</th>\n",
              "      <th>BloodPressure</th>\n",
              "      <th>SkinThickness</th>\n",
              "      <th>Insulin</th>\n",
              "      <th>BMI</th>\n",
              "      <th>DiabetesPedigreeFunction</th>\n",
              "      <th>Age</th>\n",
              "      <th>Outcome</th>\n",
              "    </tr>\n",
              "  </thead>\n",
              "  <tbody>\n",
              "    <tr>\n",
              "      <th>0</th>\n",
              "      <td>6</td>\n",
              "      <td>148</td>\n",
              "      <td>72</td>\n",
              "      <td>35</td>\n",
              "      <td>0</td>\n",
              "      <td>33.6</td>\n",
              "      <td>0.627</td>\n",
              "      <td>50</td>\n",
              "      <td>1</td>\n",
              "    </tr>\n",
              "    <tr>\n",
              "      <th>1</th>\n",
              "      <td>1</td>\n",
              "      <td>85</td>\n",
              "      <td>66</td>\n",
              "      <td>29</td>\n",
              "      <td>0</td>\n",
              "      <td>26.6</td>\n",
              "      <td>0.351</td>\n",
              "      <td>31</td>\n",
              "      <td>0</td>\n",
              "    </tr>\n",
              "    <tr>\n",
              "      <th>2</th>\n",
              "      <td>8</td>\n",
              "      <td>183</td>\n",
              "      <td>64</td>\n",
              "      <td>0</td>\n",
              "      <td>0</td>\n",
              "      <td>23.3</td>\n",
              "      <td>0.672</td>\n",
              "      <td>32</td>\n",
              "      <td>1</td>\n",
              "    </tr>\n",
              "    <tr>\n",
              "      <th>3</th>\n",
              "      <td>1</td>\n",
              "      <td>89</td>\n",
              "      <td>66</td>\n",
              "      <td>23</td>\n",
              "      <td>94</td>\n",
              "      <td>28.1</td>\n",
              "      <td>0.167</td>\n",
              "      <td>21</td>\n",
              "      <td>0</td>\n",
              "    </tr>\n",
              "    <tr>\n",
              "      <th>4</th>\n",
              "      <td>0</td>\n",
              "      <td>137</td>\n",
              "      <td>40</td>\n",
              "      <td>35</td>\n",
              "      <td>168</td>\n",
              "      <td>43.1</td>\n",
              "      <td>2.288</td>\n",
              "      <td>33</td>\n",
              "      <td>1</td>\n",
              "    </tr>\n",
              "  </tbody>\n",
              "</table>\n",
              "</div>\n",
              "    <div class=\"colab-df-buttons\">\n",
              "\n",
              "  <div class=\"colab-df-container\">\n",
              "    <button class=\"colab-df-convert\" onclick=\"convertToInteractive('df-407f2846-951a-470e-b256-491e7d60c8da')\"\n",
              "            title=\"Convert this dataframe to an interactive table.\"\n",
              "            style=\"display:none;\">\n",
              "\n",
              "  <svg xmlns=\"http://www.w3.org/2000/svg\" height=\"24px\" viewBox=\"0 -960 960 960\">\n",
              "    <path d=\"M120-120v-720h720v720H120Zm60-500h600v-160H180v160Zm220 220h160v-160H400v160Zm0 220h160v-160H400v160ZM180-400h160v-160H180v160Zm440 0h160v-160H620v160ZM180-180h160v-160H180v160Zm440 0h160v-160H620v160Z\"/>\n",
              "  </svg>\n",
              "    </button>\n",
              "\n",
              "  <style>\n",
              "    .colab-df-container {\n",
              "      display:flex;\n",
              "      gap: 12px;\n",
              "    }\n",
              "\n",
              "    .colab-df-convert {\n",
              "      background-color: #E8F0FE;\n",
              "      border: none;\n",
              "      border-radius: 50%;\n",
              "      cursor: pointer;\n",
              "      display: none;\n",
              "      fill: #1967D2;\n",
              "      height: 32px;\n",
              "      padding: 0 0 0 0;\n",
              "      width: 32px;\n",
              "    }\n",
              "\n",
              "    .colab-df-convert:hover {\n",
              "      background-color: #E2EBFA;\n",
              "      box-shadow: 0px 1px 2px rgba(60, 64, 67, 0.3), 0px 1px 3px 1px rgba(60, 64, 67, 0.15);\n",
              "      fill: #174EA6;\n",
              "    }\n",
              "\n",
              "    .colab-df-buttons div {\n",
              "      margin-bottom: 4px;\n",
              "    }\n",
              "\n",
              "    [theme=dark] .colab-df-convert {\n",
              "      background-color: #3B4455;\n",
              "      fill: #D2E3FC;\n",
              "    }\n",
              "\n",
              "    [theme=dark] .colab-df-convert:hover {\n",
              "      background-color: #434B5C;\n",
              "      box-shadow: 0px 1px 3px 1px rgba(0, 0, 0, 0.15);\n",
              "      filter: drop-shadow(0px 1px 2px rgba(0, 0, 0, 0.3));\n",
              "      fill: #FFFFFF;\n",
              "    }\n",
              "  </style>\n",
              "\n",
              "    <script>\n",
              "      const buttonEl =\n",
              "        document.querySelector('#df-407f2846-951a-470e-b256-491e7d60c8da button.colab-df-convert');\n",
              "      buttonEl.style.display =\n",
              "        google.colab.kernel.accessAllowed ? 'block' : 'none';\n",
              "\n",
              "      async function convertToInteractive(key) {\n",
              "        const element = document.querySelector('#df-407f2846-951a-470e-b256-491e7d60c8da');\n",
              "        const dataTable =\n",
              "          await google.colab.kernel.invokeFunction('convertToInteractive',\n",
              "                                                    [key], {});\n",
              "        if (!dataTable) return;\n",
              "\n",
              "        const docLinkHtml = 'Like what you see? Visit the ' +\n",
              "          '<a target=\"_blank\" href=https://colab.research.google.com/notebooks/data_table.ipynb>data table notebook</a>'\n",
              "          + ' to learn more about interactive tables.';\n",
              "        element.innerHTML = '';\n",
              "        dataTable['output_type'] = 'display_data';\n",
              "        await google.colab.output.renderOutput(dataTable, element);\n",
              "        const docLink = document.createElement('div');\n",
              "        docLink.innerHTML = docLinkHtml;\n",
              "        element.appendChild(docLink);\n",
              "      }\n",
              "    </script>\n",
              "  </div>\n",
              "\n",
              "\n",
              "<div id=\"df-ae852d67-4eb9-4543-9a4f-26c1dee59ee8\">\n",
              "  <button class=\"colab-df-quickchart\" onclick=\"quickchart('df-ae852d67-4eb9-4543-9a4f-26c1dee59ee8')\"\n",
              "            title=\"Suggest charts\"\n",
              "            style=\"display:none;\">\n",
              "\n",
              "<svg xmlns=\"http://www.w3.org/2000/svg\" height=\"24px\"viewBox=\"0 0 24 24\"\n",
              "     width=\"24px\">\n",
              "    <g>\n",
              "        <path d=\"M19 3H5c-1.1 0-2 .9-2 2v14c0 1.1.9 2 2 2h14c1.1 0 2-.9 2-2V5c0-1.1-.9-2-2-2zM9 17H7v-7h2v7zm4 0h-2V7h2v10zm4 0h-2v-4h2v4z\"/>\n",
              "    </g>\n",
              "</svg>\n",
              "  </button>\n",
              "\n",
              "<style>\n",
              "  .colab-df-quickchart {\n",
              "      --bg-color: #E8F0FE;\n",
              "      --fill-color: #1967D2;\n",
              "      --hover-bg-color: #E2EBFA;\n",
              "      --hover-fill-color: #174EA6;\n",
              "      --disabled-fill-color: #AAA;\n",
              "      --disabled-bg-color: #DDD;\n",
              "  }\n",
              "\n",
              "  [theme=dark] .colab-df-quickchart {\n",
              "      --bg-color: #3B4455;\n",
              "      --fill-color: #D2E3FC;\n",
              "      --hover-bg-color: #434B5C;\n",
              "      --hover-fill-color: #FFFFFF;\n",
              "      --disabled-bg-color: #3B4455;\n",
              "      --disabled-fill-color: #666;\n",
              "  }\n",
              "\n",
              "  .colab-df-quickchart {\n",
              "    background-color: var(--bg-color);\n",
              "    border: none;\n",
              "    border-radius: 50%;\n",
              "    cursor: pointer;\n",
              "    display: none;\n",
              "    fill: var(--fill-color);\n",
              "    height: 32px;\n",
              "    padding: 0;\n",
              "    width: 32px;\n",
              "  }\n",
              "\n",
              "  .colab-df-quickchart:hover {\n",
              "    background-color: var(--hover-bg-color);\n",
              "    box-shadow: 0 1px 2px rgba(60, 64, 67, 0.3), 0 1px 3px 1px rgba(60, 64, 67, 0.15);\n",
              "    fill: var(--button-hover-fill-color);\n",
              "  }\n",
              "\n",
              "  .colab-df-quickchart-complete:disabled,\n",
              "  .colab-df-quickchart-complete:disabled:hover {\n",
              "    background-color: var(--disabled-bg-color);\n",
              "    fill: var(--disabled-fill-color);\n",
              "    box-shadow: none;\n",
              "  }\n",
              "\n",
              "  .colab-df-spinner {\n",
              "    border: 2px solid var(--fill-color);\n",
              "    border-color: transparent;\n",
              "    border-bottom-color: var(--fill-color);\n",
              "    animation:\n",
              "      spin 1s steps(1) infinite;\n",
              "  }\n",
              "\n",
              "  @keyframes spin {\n",
              "    0% {\n",
              "      border-color: transparent;\n",
              "      border-bottom-color: var(--fill-color);\n",
              "      border-left-color: var(--fill-color);\n",
              "    }\n",
              "    20% {\n",
              "      border-color: transparent;\n",
              "      border-left-color: var(--fill-color);\n",
              "      border-top-color: var(--fill-color);\n",
              "    }\n",
              "    30% {\n",
              "      border-color: transparent;\n",
              "      border-left-color: var(--fill-color);\n",
              "      border-top-color: var(--fill-color);\n",
              "      border-right-color: var(--fill-color);\n",
              "    }\n",
              "    40% {\n",
              "      border-color: transparent;\n",
              "      border-right-color: var(--fill-color);\n",
              "      border-top-color: var(--fill-color);\n",
              "    }\n",
              "    60% {\n",
              "      border-color: transparent;\n",
              "      border-right-color: var(--fill-color);\n",
              "    }\n",
              "    80% {\n",
              "      border-color: transparent;\n",
              "      border-right-color: var(--fill-color);\n",
              "      border-bottom-color: var(--fill-color);\n",
              "    }\n",
              "    90% {\n",
              "      border-color: transparent;\n",
              "      border-bottom-color: var(--fill-color);\n",
              "    }\n",
              "  }\n",
              "</style>\n",
              "\n",
              "  <script>\n",
              "    async function quickchart(key) {\n",
              "      const quickchartButtonEl =\n",
              "        document.querySelector('#' + key + ' button');\n",
              "      quickchartButtonEl.disabled = true;  // To prevent multiple clicks.\n",
              "      quickchartButtonEl.classList.add('colab-df-spinner');\n",
              "      try {\n",
              "        const charts = await google.colab.kernel.invokeFunction(\n",
              "            'suggestCharts', [key], {});\n",
              "      } catch (error) {\n",
              "        console.error('Error during call to suggestCharts:', error);\n",
              "      }\n",
              "      quickchartButtonEl.classList.remove('colab-df-spinner');\n",
              "      quickchartButtonEl.classList.add('colab-df-quickchart-complete');\n",
              "    }\n",
              "    (() => {\n",
              "      let quickchartButtonEl =\n",
              "        document.querySelector('#df-ae852d67-4eb9-4543-9a4f-26c1dee59ee8 button');\n",
              "      quickchartButtonEl.style.display =\n",
              "        google.colab.kernel.accessAllowed ? 'block' : 'none';\n",
              "    })();\n",
              "  </script>\n",
              "</div>\n",
              "    </div>\n",
              "  </div>\n"
            ],
            "application/vnd.google.colaboratory.intrinsic+json": {
              "type": "dataframe",
              "variable_name": "data",
              "summary": "{\n  \"name\": \"data\",\n  \"rows\": 768,\n  \"fields\": [\n    {\n      \"column\": \"Pregnancies\",\n      \"properties\": {\n        \"dtype\": \"number\",\n        \"std\": 3,\n        \"min\": 0,\n        \"max\": 17,\n        \"num_unique_values\": 17,\n        \"samples\": [\n          6,\n          1,\n          3\n        ],\n        \"semantic_type\": \"\",\n        \"description\": \"\"\n      }\n    },\n    {\n      \"column\": \"Glucose\",\n      \"properties\": {\n        \"dtype\": \"number\",\n        \"std\": 31,\n        \"min\": 0,\n        \"max\": 199,\n        \"num_unique_values\": 136,\n        \"samples\": [\n          151,\n          101,\n          112\n        ],\n        \"semantic_type\": \"\",\n        \"description\": \"\"\n      }\n    },\n    {\n      \"column\": \"BloodPressure\",\n      \"properties\": {\n        \"dtype\": \"number\",\n        \"std\": 19,\n        \"min\": 0,\n        \"max\": 122,\n        \"num_unique_values\": 47,\n        \"samples\": [\n          86,\n          46,\n          85\n        ],\n        \"semantic_type\": \"\",\n        \"description\": \"\"\n      }\n    },\n    {\n      \"column\": \"SkinThickness\",\n      \"properties\": {\n        \"dtype\": \"number\",\n        \"std\": 15,\n        \"min\": 0,\n        \"max\": 99,\n        \"num_unique_values\": 51,\n        \"samples\": [\n          7,\n          12,\n          48\n        ],\n        \"semantic_type\": \"\",\n        \"description\": \"\"\n      }\n    },\n    {\n      \"column\": \"Insulin\",\n      \"properties\": {\n        \"dtype\": \"number\",\n        \"std\": 115,\n        \"min\": 0,\n        \"max\": 846,\n        \"num_unique_values\": 186,\n        \"samples\": [\n          52,\n          41,\n          183\n        ],\n        \"semantic_type\": \"\",\n        \"description\": \"\"\n      }\n    },\n    {\n      \"column\": \"BMI\",\n      \"properties\": {\n        \"dtype\": \"number\",\n        \"std\": 7.884160320375446,\n        \"min\": 0.0,\n        \"max\": 67.1,\n        \"num_unique_values\": 248,\n        \"samples\": [\n          19.9,\n          31.0,\n          38.1\n        ],\n        \"semantic_type\": \"\",\n        \"description\": \"\"\n      }\n    },\n    {\n      \"column\": \"DiabetesPedigreeFunction\",\n      \"properties\": {\n        \"dtype\": \"number\",\n        \"std\": 0.3313285950127749,\n        \"min\": 0.078,\n        \"max\": 2.42,\n        \"num_unique_values\": 517,\n        \"samples\": [\n          1.731,\n          0.426,\n          0.138\n        ],\n        \"semantic_type\": \"\",\n        \"description\": \"\"\n      }\n    },\n    {\n      \"column\": \"Age\",\n      \"properties\": {\n        \"dtype\": \"number\",\n        \"std\": 11,\n        \"min\": 21,\n        \"max\": 81,\n        \"num_unique_values\": 52,\n        \"samples\": [\n          60,\n          47,\n          72\n        ],\n        \"semantic_type\": \"\",\n        \"description\": \"\"\n      }\n    },\n    {\n      \"column\": \"Outcome\",\n      \"properties\": {\n        \"dtype\": \"number\",\n        \"std\": 0,\n        \"min\": 0,\n        \"max\": 1,\n        \"num_unique_values\": 2,\n        \"samples\": [\n          0,\n          1\n        ],\n        \"semantic_type\": \"\",\n        \"description\": \"\"\n      }\n    }\n  ]\n}"
            }
          },
          "metadata": {},
          "execution_count": 32
        }
      ],
      "source": [
        "data = pd.read_csv('diabetes.csv')\n",
        "print(f\"Dataset shape: {data.shape}\")\n",
        "data.head()"
      ]
    },
    {
      "cell_type": "markdown",
      "metadata": {
        "id": "gaWfchyrE7he"
      },
      "source": [
        "Посмотрим на распределение целевой переменной"
      ]
    },
    {
      "cell_type": "code",
      "execution_count": 33,
      "metadata": {
        "id": "twP3ke6wE7he",
        "colab": {
          "base_uri": "https://localhost:8080/",
          "height": 430
        },
        "outputId": "bfa0f233-dffa-4ca6-ddce-3e88d4c36c99"
      },
      "outputs": [
        {
          "output_type": "display_data",
          "data": {
            "text/plain": [
              "<Figure size 640x480 with 1 Axes>"
            ],
            "image/png": "[encoded data removed]"
          },
          "metadata": {}
        }
      ],
      "source": [
        "data['Outcome'].hist()\n",
        "plt.show()"
      ]
    },
    {
      "cell_type": "markdown",
      "metadata": {
        "id": "KUbKU7ruE7he"
      },
      "source": [
        "**Задание 3.1 (0.5 балла)** Разделите данные на признаки и целевую переменную. Разбейте датасет на обучающую и тестовую части в отношении 7:3. Затем разделите обучающую выборку на обучающую-обучающую и обучающую-валидационную в соотношении 7:3 (то есть в итоге должно получиться три выборки: обучающая-обучающая (0.49 от исходного датасета), обучающая-валидационная (0.21 от исходного датасета) и тестовая (0.3 от исходного датасета)."
      ]
    },
    {
      "cell_type": "code",
      "execution_count": 34,
      "metadata": {
        "id": "JJY-cTwLE7hf"
      },
      "outputs": [],
      "source": [
        "from sklearn.model_selection import train_test_split\n",
        "\n",
        "X = data.drop(['Outcome'], axis=1)\n",
        "y = data['Outcome']\n",
        "\n",
        "X_train, X_test, y_train, y_test = train_test_split(X, y, test_size=0.3, random_state=np.random.seed(42))\n",
        "X_train_train, X_valid, y_train_train, y_valid = train_test_split(X_train, y_train, test_size=0.3, random_state=np.random.seed(42))"
      ]
    },
    {
      "cell_type": "markdown",
      "metadata": {
        "id": "qjTsUKYAE7hf"
      },
      "source": [
        "**Задание 3.2 (1 балл)** На обучающей-валидационной выборке подберите оптимальные значения гиперпараметров `max_depth` и `min_samples_leaf` для `DecisionTreeClassifier`. Для этого:\n",
        "1. Создайте списки с возможными значениями для перебора.\n",
        "2. Для каждой пары значений обучите дерево на обучающей-обучающей выборке и определите качество на обучающей-валидационной выборке. В качестве критерия будем использовать `f1-меру`.\n",
        "3. Выберите ту пару значений, которая даёт наилучшее качество на обучающей-валидационной выборке.\n",
        "\n",
        "\n",
        "Обучите решающее дерево с подобранными гиперпараметрами на **полной обучающей** выборке. Оцените качество классификации на тестовой выборке по метрикам `accuracy`, `precision` и `recall`, `auc_roc`."
      ]
    },
    {
      "cell_type": "code",
      "source": [
        "from sklearn.metrics import f1_score\n",
        "\n",
        "max_depth_array = range(2, 20)\n",
        "min_samples_leaf_array = range(2, 20)\n",
        "f1_array = []\n",
        "pairs = []\n",
        "\n",
        "for max_depth in max_depth_array:\n",
        "    for min_samples_leaf in min_samples_leaf_array:\n",
        "        dt = DecisionTreeClassifier(max_depth=max_depth, min_samples_leaf=min_samples_leaf, random_state=42)\n",
        "        dt.fit(X_train_train, y_train_train)\n",
        "        f1_array.append(f1_score(y_valid, dt.predict(X_valid)))\n",
        "        pairs.append([max_depth, min_samples_leaf])\n",
        "\n",
        "best_params = pairs[np.argmax(f1_array)]\n",
        "print(best_params)"
      ],
      "metadata": {
        "colab": {
          "base_uri": "https://localhost:8080/"
        },
        "id": "1AhWscBY7h3V",
        "outputId": "20599ad0-87e2-45cc-bb90-1ea5a4215a89"
      },
      "execution_count": 35,
      "outputs": [
        {
          "output_type": "stream",
          "name": "stdout",
          "text": [
            "[7, 7]\n"
          ]
        }
      ]
    },
    {
      "cell_type": "code",
      "execution_count": 36,
      "metadata": {
        "id": "OOtxFdrdE7hf",
        "colab": {
          "base_uri": "https://localhost:8080/"
        },
        "outputId": "98cc8b88-de83-4ae5-a9ff-467c98d6c7ff"
      },
      "outputs": [
        {
          "output_type": "stream",
          "name": "stdout",
          "text": [
            "              precision    recall  f1-score   support\n",
            "\n",
            "           0       0.79      0.74      0.76       151\n",
            "           1       0.56      0.62      0.59        80\n",
            "\n",
            "    accuracy                           0.70       231\n",
            "   macro avg       0.67      0.68      0.67       231\n",
            "weighted avg       0.71      0.70      0.70       231\n",
            "\n"
          ]
        }
      ],
      "source": [
        "from sklearn.metrics import classification_report, roc_auc_score\n",
        "dt = DecisionTreeClassifier(max_depth=7, min_samples_leaf=7, random_state=42).fit(X_train, y_train)\n",
        "pred = dt.predict(X_test)\n",
        "\n",
        "print(classification_report(y_test, pred))"
      ]
    },
    {
      "cell_type": "markdown",
      "metadata": {
        "id": "h9zxB8TZE7hf"
      },
      "source": [
        "**Задание 3.3 (0.5 балла)** Обучите [`BaggingClassifier`](https://scikit-learn.org/stable/modules/generated/sklearn.ensemble.BaggingClassifier.html) на 50 деревьях на **полной обучающей** выборке. Оцените качество классификации на тестовой выборке по тем же метрикам."
      ]
    },
    {
      "cell_type": "code",
      "execution_count": 37,
      "metadata": {
        "id": "-h508NvOE7hf",
        "colab": {
          "base_uri": "https://localhost:8080/"
        },
        "outputId": "d1b75c7a-00d3-4d5c-d963-4863a8c86ebf"
      },
      "outputs": [
        {
          "output_type": "stream",
          "name": "stdout",
          "text": [
            "              precision    recall  f1-score   support\n",
            "\n",
            "           0       0.80      0.79      0.80       151\n",
            "           1       0.62      0.62      0.62        80\n",
            "\n",
            "    accuracy                           0.74       231\n",
            "   macro avg       0.71      0.71      0.71       231\n",
            "weighted avg       0.74      0.74      0.74       231\n",
            "\n"
          ]
        }
      ],
      "source": [
        "from sklearn.ensemble import BaggingClassifier\n",
        "bagging = BaggingClassifier(n_estimators=50).fit(X_train, y_train)\n",
        "\n",
        "print(classification_report(y_test, bagging.predict(X_test)))"
      ]
    },
    {
      "cell_type": "markdown",
      "metadata": {
        "id": "Wf7ou66iE7hf"
      },
      "source": [
        "**Задание 3.4 (1 балл)** Выполните кросс-валидацию на полной обучающей выборке и подберите оптимальные значения гиперпараметров `max_depth` и `min_samples_split` для `Random Forest` с 50 деревьями. Для этого:\n",
        "\n",
        "1. Создайте списки с возможными значениями для перебора.\n",
        "2. Для каждой пары значений проведите кросс-валидацию на полной обучающей выборке. Количество разбиений выберите на ваш вкус. В качестве критерия будем использовать `f1-меру`. Усредните значение критерия по всем прогонам кросс-валидации.\n",
        "3. Выберите ту пару значений, которая даёт наилучшее среднее качество.\n",
        "\n",
        "Обучите случайный лес с подобранными гиперпараметрами на **полной обучающей** выборке. Оцените качество классификации по тем же метрикам. Какая из трёх построенных моделей показала себя лучше?"
      ]
    },
    {
      "cell_type": "code",
      "execution_count": 38,
      "metadata": {
        "id": "AKAcQNao8Bq8",
        "colab": {
          "base_uri": "https://localhost:8080/"
        },
        "outputId": "e3217f14-91b6-4262-aaba-52fe83a3f8df"
      },
      "outputs": [
        {
          "output_type": "stream",
          "name": "stdout",
          "text": [
            "[12, 5]\n"
          ]
        }
      ],
      "source": [
        "from sklearn.model_selection import cross_validate\n",
        "\n",
        "max_depth_array = range(2, 15)\n",
        "min_samples_leaf_array = range(2, 15)\n",
        "cv_array = []\n",
        "pairs = []\n",
        "\n",
        "for max_depth in max_depth_array:\n",
        "    for min_samples_leaf in min_samples_leaf_array:\n",
        "        rf = RandomForestClassifier(n_estimators = 50, max_depth=max_depth, min_samples_leaf=min_samples_leaf, random_state=42)\n",
        "        rf.fit(X_train_train, y_train_train)\n",
        "\n",
        "        cv = cross_validate(rf, X_train, y_train, cv=5, scoring='f1')\n",
        "\n",
        "        cv_array.append(np.mean(cv['test_score']))\n",
        "        pairs.append([max_depth, min_samples_leaf])\n",
        "\n",
        "best_params = pairs[np.argmax(cv_array)]\n",
        "print(best_params)"
      ]
    },
    {
      "cell_type": "code",
      "source": [
        "rf = RandomForestClassifier(max_depth=12, min_samples_leaf=5).fit(X_train, y_train)\n",
        "\n",
        "print(classification_report(y_test, rf.predict(X_test)))"
      ],
      "metadata": {
        "colab": {
          "base_uri": "https://localhost:8080/"
        },
        "id": "BUA4d4Q4VUyp",
        "outputId": "1f8da526-80c6-4473-e972-98f97a3af644"
      },
      "execution_count": 45,
      "outputs": [
        {
          "output_type": "stream",
          "name": "stdout",
          "text": [
            "              precision    recall  f1-score   support\n",
            "\n",
            "           0       1.00      1.00      1.00      1274\n",
            "           1       1.00      1.00      1.00      1163\n",
            "\n",
            "    accuracy                           1.00      2437\n",
            "   macro avg       1.00      1.00      1.00      2437\n",
            "weighted avg       1.00      1.00      1.00      2437\n",
            "\n"
          ]
        }
      ]
    },
    {
      "cell_type": "markdown",
      "source": [
        "Random forest выдал 1.0 по всем параметрам, что конечно значительно лучше, чем 0.79 и 0.8, которые мы видели в других моделях."
      ],
      "metadata": {
        "id": "wzc-KpSjVzDX"
      }
    },
    {
      "cell_type": "markdown",
      "metadata": {
        "id": "Q5WkZPEfE7hf"
      },
      "source": [
        "**Задание 3.5 (0.5 балла)** Постройте график зависимости AUC ROC на тестовой выборке от числа деревьев (`n_estimators`) для случайного леса, обучаемого на **полной обучающей** выборке. Какие выводы можно сделать?"
      ]
    },
    {
      "cell_type": "code",
      "execution_count": 39,
      "metadata": {
        "id": "7RladHvjE7hf",
        "colab": {
          "base_uri": "https://localhost:8080/",
          "height": 522
        },
        "outputId": "57039269-9e76-45fe-8d5f-01376085086f"
      },
      "outputs": [
        {
          "output_type": "display_data",
          "data": {
            "text/plain": [
              "<Figure size 1000x600 with 1 Axes>"
            ],
            "image/png": "[encoded data removed]"
          },
          "metadata": {}
        }
      ],
      "source": [
        "from sklearn.metrics import roc_auc_score\n",
        "\n",
        "n_trees = range(1, 100)\n",
        "auc_roc = []\n",
        "for n in n_trees:\n",
        "  rf = RandomForestClassifier(n_estimators=n).fit(X_train, y_train)\n",
        "  auc_roc.append(roc_auc_score(y_test, rf.predict(X_test)))\n",
        "\n",
        "plt.figure(figsize=(10, 6))\n",
        "plt.plot(n_trees, auc_roc)\n",
        "plt.show()"
      ]
    },
    {
      "cell_type": "markdown",
      "source": [
        "После определённого значения около ~10 деревьев auc_roc достаточно сильно варьируется, но остается в пределах значений около 0.68-0.74."
      ],
      "metadata": {
        "id": "Rj7reRbHWGe7"
      }
    },
    {
      "cell_type": "markdown",
      "metadata": {
        "id": "Lj5iTJdkE7hf"
      },
      "source": [
        "**Задание 3.6 (0.5 балла)** Для лучшей модели случайного леса из **Задания 3.4** посчитайте важность признаков и постройте bar plot. Какой признак оказался самым важным для определения диабета?"
      ]
    },
    {
      "cell_type": "code",
      "execution_count": 40,
      "metadata": {
        "id": "1xDrI_TSE7hf",
        "colab": {
          "base_uri": "https://localhost:8080/",
          "height": 622
        },
        "outputId": "0ed23708-ca7f-470c-e9d3-09a0322a66f7"
      },
      "outputs": [
        {
          "output_type": "display_data",
          "data": {
            "text/plain": [
              "<Figure size 1500x700 with 1 Axes>"
            ],
            "image/png": "[encoded data removed]"
          },
          "metadata": {}
        }
      ],
      "source": [
        "rf = RandomForestClassifier(n_estimators = 50, max_depth=12, min_samples_leaf=5, random_state=42)\n",
        "rf.fit(X_train, y_train)\n",
        "\n",
        "plt.figure(figsize=(15, 7))\n",
        "plt.title(\"Feature importances\")\n",
        "plt.bar(data.columns[:-1], rf.feature_importances_);"
      ]
    },
    {
      "cell_type": "markdown",
      "source": [
        "С достаточно значительным отрывом самым важным признаком оказался признак \"Glucose\"."
      ],
      "metadata": {
        "id": "RwAdPKQ1WZZ-"
      }
    },
    {
      "cell_type": "markdown",
      "metadata": {
        "id": "KVTwj8eUE7hd"
      },
      "source": [
        "![здоровый сон.jpg](data:image/jpeg;base64,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)"
      ]
    }
  ],
  "metadata": {
    "kernelspec": {
      "display_name": "Python 3 (ipykernel)",
      "language": "python",
      "name": "python3"
    },
    "language_info": {
      "codemirror_mode": {
        "name": "ipython",
        "version": 3
      },
      "file_extension": ".py",
      "mimetype": "text/x-python",
      "name": "python",
      "nbconvert_exporter": "python",
      "pygments_lexer": "ipython3",
      "version": "3.9.12"
    },
    "colab": {
      "provenance": []
    }
  },
  "nbformat": 4,
  "nbformat_minor": 0
}