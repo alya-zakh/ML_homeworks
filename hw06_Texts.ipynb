{
  "cells": [
    {
      "cell_type": "markdown",
      "metadata": {
        "id": "Ffq6A2-ifzAA"
      },
      "source": [
        "# Интеллектуальный анализ данных – весна 2024\n",
        "# Домашнее задание 6: классификация текстов"
      ]
    },
    {
      "cell_type": "markdown",
      "source": [
        "Правила:\n",
        "\n",
        "\n",
        "\n",
        "*   Домашнее задание оценивается в 10 баллов.\n",
        "*   Можно использовать без доказательства любые результаты, встречавшиеся на лекциях или семинарах по курсу, если получение этих результатов не является вопросом задания.\n",
        "*  Можно использовать любые свободные источники с *обязательным* указанием ссылки на них.\n",
        "*  Плагиат не допускается. При обнаружении случаев списывания, 0 за работу выставляется всем участникам нарушения, даже если можно установить, кто у кого списал.\n",
        "*  Старайтесь сделать код как можно более оптимальным. В частности, будет штрафоваться использование циклов в тех случаях, когда операцию можно совершить при помощи инструментов библиотек, о которых рассказывалось в курсе."
      ],
      "metadata": {
        "id": "EPcxtekTA1Sm"
      }
    },
    {
      "cell_type": "markdown",
      "metadata": {
        "id": "itRtFtrOf0_b"
      },
      "source": [
        "В этом домашнем задании вам предстоит построить классификатор текстов.\n",
        "\n",
        "Будем предсказывать эмоциональную окраску твиттов о коронавирусе.\n",
        "\n"
      ]
    },
    {
      "cell_type": "code",
      "execution_count": 1,
      "metadata": {
        "id": "tNGRVO7_g9mz"
      },
      "outputs": [],
      "source": [
        "import numpy as np\n",
        "import pandas as pd\n",
        "from typing import  List\n",
        "import matplotlib.pyplot as plt\n",
        "import seaborn as sns\n",
        "from string import punctuation\n",
        "import nltk"
      ]
    },
    {
      "cell_type": "code",
      "execution_count": 2,
      "metadata": {
        "id": "zOy8iHJQg_Ss",
        "colab": {
          "base_uri": "https://localhost:8080/",
          "height": 175
        },
        "outputId": "dabb574c-2ab3-4418-f1dd-e0247aa61433"
      },
      "outputs": [
        {
          "output_type": "execute_result",
          "data": {
            "text/plain": [
              "       UserName  ScreenName           Location     TweetAt  \\\n",
              "22297     31038       75990        North Wales  03-04-2020   \n",
              "2605       6949       51901     Palm Beach, FL  18-03-2020   \n",
              "28806     39146       84098      Indore, India  09-04-2020   \n",
              "8180      13732       58684  Toronto, Ontario   20-03-2020   \n",
              "\n",
              "                                           OriginalTweet           Sentiment  \n",
              "22297  @asda is it true that you have imported Polish...  Extremely Positive  \n",
              "2605   Worst of panic buying over, says supply chain ...  Extremely Negative  \n",
              "28806  @ssupnow ACROSS ?\\r\\r\\n\\r\\r\\n1?? SANITIZER\\r\\r...  Extremely Positive  \n",
              "8180   COVID-19 outbreak: Rich buy more and more whil...            Negative  "
            ],
            "text/html": [
              "\n",
              "  <div id=\"df-4c94332e-ddca-4456-ac30-82365f5b14c5\" class=\"colab-df-container\">\n",
              "    <div>\n",
              "<style scoped>\n",
              "    .dataframe tbody tr th:only-of-type {\n",
              "        vertical-align: middle;\n",
              "    }\n",
              "\n",
              "    .dataframe tbody tr th {\n",
              "        vertical-align: top;\n",
              "    }\n",
              "\n",
              "    .dataframe thead th {\n",
              "        text-align: right;\n",
              "    }\n",
              "</style>\n",
              "<table border=\"1\" class=\"dataframe\">\n",
              "  <thead>\n",
              "    <tr style=\"text-align: right;\">\n",
              "      <th></th>\n",
              "      <th>UserName</th>\n",
              "      <th>ScreenName</th>\n",
              "      <th>Location</th>\n",
              "      <th>TweetAt</th>\n",
              "      <th>OriginalTweet</th>\n",
              "      <th>Sentiment</th>\n",
              "    </tr>\n",
              "  </thead>\n",
              "  <tbody>\n",
              "    <tr>\n",
              "      <th>22297</th>\n",
              "      <td>31038</td>\n",
              "      <td>75990</td>\n",
              "      <td>North Wales</td>\n",
              "      <td>03-04-2020</td>\n",
              "      <td>@asda is it true that you have imported Polish...</td>\n",
              "      <td>Extremely Positive</td>\n",
              "    </tr>\n",
              "    <tr>\n",
              "      <th>2605</th>\n",
              "      <td>6949</td>\n",
              "      <td>51901</td>\n",
              "      <td>Palm Beach, FL</td>\n",
              "      <td>18-03-2020</td>\n",
              "      <td>Worst of panic buying over, says supply chain ...</td>\n",
              "      <td>Extremely Negative</td>\n",
              "    </tr>\n",
              "    <tr>\n",
              "      <th>28806</th>\n",
              "      <td>39146</td>\n",
              "      <td>84098</td>\n",
              "      <td>Indore, India</td>\n",
              "      <td>09-04-2020</td>\n",
              "      <td>@ssupnow ACROSS ?\\r\\r\\n\\r\\r\\n1?? SANITIZER\\r\\r...</td>\n",
              "      <td>Extremely Positive</td>\n",
              "    </tr>\n",
              "    <tr>\n",
              "      <th>8180</th>\n",
              "      <td>13732</td>\n",
              "      <td>58684</td>\n",
              "      <td>Toronto, Ontario</td>\n",
              "      <td>20-03-2020</td>\n",
              "      <td>COVID-19 outbreak: Rich buy more and more whil...</td>\n",
              "      <td>Negative</td>\n",
              "    </tr>\n",
              "  </tbody>\n",
              "</table>\n",
              "</div>\n",
              "    <div class=\"colab-df-buttons\">\n",
              "\n",
              "  <div class=\"colab-df-container\">\n",
              "    <button class=\"colab-df-convert\" onclick=\"convertToInteractive('df-4c94332e-ddca-4456-ac30-82365f5b14c5')\"\n",
              "            title=\"Convert this dataframe to an interactive table.\"\n",
              "            style=\"display:none;\">\n",
              "\n",
              "  <svg xmlns=\"http://www.w3.org/2000/svg\" height=\"24px\" viewBox=\"0 -960 960 960\">\n",
              "    <path d=\"M120-120v-720h720v720H120Zm60-500h600v-160H180v160Zm220 220h160v-160H400v160Zm0 220h160v-160H400v160ZM180-400h160v-160H180v160Zm440 0h160v-160H620v160ZM180-180h160v-160H180v160Zm440 0h160v-160H620v160Z\"/>\n",
              "  </svg>\n",
              "    </button>\n",
              "\n",
              "  <style>\n",
              "    .colab-df-container {\n",
              "      display:flex;\n",
              "      gap: 12px;\n",
              "    }\n",
              "\n",
              "    .colab-df-convert {\n",
              "      background-color: #E8F0FE;\n",
              "      border: none;\n",
              "      border-radius: 50%;\n",
              "      cursor: pointer;\n",
              "      display: none;\n",
              "      fill: #1967D2;\n",
              "      height: 32px;\n",
              "      padding: 0 0 0 0;\n",
              "      width: 32px;\n",
              "    }\n",
              "\n",
              "    .colab-df-convert:hover {\n",
              "      background-color: #E2EBFA;\n",
              "      box-shadow: 0px 1px 2px rgba(60, 64, 67, 0.3), 0px 1px 3px 1px rgba(60, 64, 67, 0.15);\n",
              "      fill: #174EA6;\n",
              "    }\n",
              "\n",
              "    .colab-df-buttons div {\n",
              "      margin-bottom: 4px;\n",
              "    }\n",
              "\n",
              "    [theme=dark] .colab-df-convert {\n",
              "      background-color: #3B4455;\n",
              "      fill: #D2E3FC;\n",
              "    }\n",
              "\n",
              "    [theme=dark] .colab-df-convert:hover {\n",
              "      background-color: #434B5C;\n",
              "      box-shadow: 0px 1px 3px 1px rgba(0, 0, 0, 0.15);\n",
              "      filter: drop-shadow(0px 1px 2px rgba(0, 0, 0, 0.3));\n",
              "      fill: #FFFFFF;\n",
              "    }\n",
              "  </style>\n",
              "\n",
              "    <script>\n",
              "      const buttonEl =\n",
              "        document.querySelector('#df-4c94332e-ddca-4456-ac30-82365f5b14c5 button.colab-df-convert');\n",
              "      buttonEl.style.display =\n",
              "        google.colab.kernel.accessAllowed ? 'block' : 'none';\n",
              "\n",
              "      async function convertToInteractive(key) {\n",
              "        const element = document.querySelector('#df-4c94332e-ddca-4456-ac30-82365f5b14c5');\n",
              "        const dataTable =\n",
              "          await google.colab.kernel.invokeFunction('convertToInteractive',\n",
              "                                                    [key], {});\n",
              "        if (!dataTable) return;\n",
              "\n",
              "        const docLinkHtml = 'Like what you see? Visit the ' +\n",
              "          '<a target=\"_blank\" href=https://colab.research.google.com/notebooks/data_table.ipynb>data table notebook</a>'\n",
              "          + ' to learn more about interactive tables.';\n",
              "        element.innerHTML = '';\n",
              "        dataTable['output_type'] = 'display_data';\n",
              "        await google.colab.output.renderOutput(dataTable, element);\n",
              "        const docLink = document.createElement('div');\n",
              "        docLink.innerHTML = docLinkHtml;\n",
              "        element.appendChild(docLink);\n",
              "      }\n",
              "    </script>\n",
              "  </div>\n",
              "\n",
              "\n",
              "<div id=\"df-f19b2f97-5c92-4c51-98d8-90c1ba520efd\">\n",
              "  <button class=\"colab-df-quickchart\" onclick=\"quickchart('df-f19b2f97-5c92-4c51-98d8-90c1ba520efd')\"\n",
              "            title=\"Suggest charts\"\n",
              "            style=\"display:none;\">\n",
              "\n",
              "<svg xmlns=\"http://www.w3.org/2000/svg\" height=\"24px\"viewBox=\"0 0 24 24\"\n",
              "     width=\"24px\">\n",
              "    <g>\n",
              "        <path d=\"M19 3H5c-1.1 0-2 .9-2 2v14c0 1.1.9 2 2 2h14c1.1 0 2-.9 2-2V5c0-1.1-.9-2-2-2zM9 17H7v-7h2v7zm4 0h-2V7h2v10zm4 0h-2v-4h2v4z\"/>\n",
              "    </g>\n",
              "</svg>\n",
              "  </button>\n",
              "\n",
              "<style>\n",
              "  .colab-df-quickchart {\n",
              "      --bg-color: #E8F0FE;\n",
              "      --fill-color: #1967D2;\n",
              "      --hover-bg-color: #E2EBFA;\n",
              "      --hover-fill-color: #174EA6;\n",
              "      --disabled-fill-color: #AAA;\n",
              "      --disabled-bg-color: #DDD;\n",
              "  }\n",
              "\n",
              "  [theme=dark] .colab-df-quickchart {\n",
              "      --bg-color: #3B4455;\n",
              "      --fill-color: #D2E3FC;\n",
              "      --hover-bg-color: #434B5C;\n",
              "      --hover-fill-color: #FFFFFF;\n",
              "      --disabled-bg-color: #3B4455;\n",
              "      --disabled-fill-color: #666;\n",
              "  }\n",
              "\n",
              "  .colab-df-quickchart {\n",
              "    background-color: var(--bg-color);\n",
              "    border: none;\n",
              "    border-radius: 50%;\n",
              "    cursor: pointer;\n",
              "    display: none;\n",
              "    fill: var(--fill-color);\n",
              "    height: 32px;\n",
              "    padding: 0;\n",
              "    width: 32px;\n",
              "  }\n",
              "\n",
              "  .colab-df-quickchart:hover {\n",
              "    background-color: var(--hover-bg-color);\n",
              "    box-shadow: 0 1px 2px rgba(60, 64, 67, 0.3), 0 1px 3px 1px rgba(60, 64, 67, 0.15);\n",
              "    fill: var(--button-hover-fill-color);\n",
              "  }\n",
              "\n",
              "  .colab-df-quickchart-complete:disabled,\n",
              "  .colab-df-quickchart-complete:disabled:hover {\n",
              "    background-color: var(--disabled-bg-color);\n",
              "    fill: var(--disabled-fill-color);\n",
              "    box-shadow: none;\n",
              "  }\n",
              "\n",
              "  .colab-df-spinner {\n",
              "    border: 2px solid var(--fill-color);\n",
              "    border-color: transparent;\n",
              "    border-bottom-color: var(--fill-color);\n",
              "    animation:\n",
              "      spin 1s steps(1) infinite;\n",
              "  }\n",
              "\n",
              "  @keyframes spin {\n",
              "    0% {\n",
              "      border-color: transparent;\n",
              "      border-bottom-color: var(--fill-color);\n",
              "      border-left-color: var(--fill-color);\n",
              "    }\n",
              "    20% {\n",
              "      border-color: transparent;\n",
              "      border-left-color: var(--fill-color);\n",
              "      border-top-color: var(--fill-color);\n",
              "    }\n",
              "    30% {\n",
              "      border-color: transparent;\n",
              "      border-left-color: var(--fill-color);\n",
              "      border-top-color: var(--fill-color);\n",
              "      border-right-color: var(--fill-color);\n",
              "    }\n",
              "    40% {\n",
              "      border-color: transparent;\n",
              "      border-right-color: var(--fill-color);\n",
              "      border-top-color: var(--fill-color);\n",
              "    }\n",
              "    60% {\n",
              "      border-color: transparent;\n",
              "      border-right-color: var(--fill-color);\n",
              "    }\n",
              "    80% {\n",
              "      border-color: transparent;\n",
              "      border-right-color: var(--fill-color);\n",
              "      border-bottom-color: var(--fill-color);\n",
              "    }\n",
              "    90% {\n",
              "      border-color: transparent;\n",
              "      border-bottom-color: var(--fill-color);\n",
              "    }\n",
              "  }\n",
              "</style>\n",
              "\n",
              "  <script>\n",
              "    async function quickchart(key) {\n",
              "      const quickchartButtonEl =\n",
              "        document.querySelector('#' + key + ' button');\n",
              "      quickchartButtonEl.disabled = true;  // To prevent multiple clicks.\n",
              "      quickchartButtonEl.classList.add('colab-df-spinner');\n",
              "      try {\n",
              "        const charts = await google.colab.kernel.invokeFunction(\n",
              "            'suggestCharts', [key], {});\n",
              "      } catch (error) {\n",
              "        console.error('Error during call to suggestCharts:', error);\n",
              "      }\n",
              "      quickchartButtonEl.classList.remove('colab-df-spinner');\n",
              "      quickchartButtonEl.classList.add('colab-df-quickchart-complete');\n",
              "    }\n",
              "    (() => {\n",
              "      let quickchartButtonEl =\n",
              "        document.querySelector('#df-f19b2f97-5c92-4c51-98d8-90c1ba520efd button');\n",
              "      quickchartButtonEl.style.display =\n",
              "        google.colab.kernel.accessAllowed ? 'block' : 'none';\n",
              "    })();\n",
              "  </script>\n",
              "</div>\n",
              "    </div>\n",
              "  </div>\n"
            ],
            "application/vnd.google.colaboratory.intrinsic+json": {
              "type": "dataframe",
              "summary": "{\n  \"name\": \"df\",\n  \"rows\": 4,\n  \"fields\": [\n    {\n      \"column\": \"UserName\",\n      \"properties\": {\n        \"dtype\": \"number\",\n        \"std\": 14927,\n        \"min\": 6949,\n        \"max\": 39146,\n        \"num_unique_values\": 4,\n        \"samples\": [\n          6949,\n          13732,\n          31038\n        ],\n        \"semantic_type\": \"\",\n        \"description\": \"\"\n      }\n    },\n    {\n      \"column\": \"ScreenName\",\n      \"properties\": {\n        \"dtype\": \"number\",\n        \"std\": 14927,\n        \"min\": 51901,\n        \"max\": 84098,\n        \"num_unique_values\": 4,\n        \"samples\": [\n          51901,\n          58684,\n          75990\n        ],\n        \"semantic_type\": \"\",\n        \"description\": \"\"\n      }\n    },\n    {\n      \"column\": \"Location\",\n      \"properties\": {\n        \"dtype\": \"string\",\n        \"num_unique_values\": 4,\n        \"samples\": [\n          \"Palm Beach, FL\",\n          \"Toronto, Ontario \",\n          \"North Wales\"\n        ],\n        \"semantic_type\": \"\",\n        \"description\": \"\"\n      }\n    },\n    {\n      \"column\": \"TweetAt\",\n      \"properties\": {\n        \"dtype\": \"string\",\n        \"num_unique_values\": 4,\n        \"samples\": [\n          \"18-03-2020\",\n          \"20-03-2020\",\n          \"03-04-2020\"\n        ],\n        \"semantic_type\": \"\",\n        \"description\": \"\"\n      }\n    },\n    {\n      \"column\": \"OriginalTweet\",\n      \"properties\": {\n        \"dtype\": \"string\",\n        \"num_unique_values\": 4,\n        \"samples\": [\n          \"Worst of panic buying over, says supply chain expert. \\r\\r\\n\\r\\r\\n\\u00c3\\u0082\\u00c2\\u0093We\\u00c3\\u0082\\u00c2\\u0092re not going to run out of food. If you go to a store and something\\u00c3\\u0082\\u00c2\\u0092s gone, it will be restocked by the next day.\\\"\\r\\r\\n\\r\\r\\n#food #supplychain #retail #logistics #coronavirus \\r\\r\\n\\r\\r\\nhttps://t.co/aHEe8xp9nz via @torontostar\",\n          \"COVID-19 outbreak: Rich buy more and more while prices are low. \\r\\r\\n\\r\\r\\nPost COVID-19: Things are worse for working people. \\r\\r\\n\\r\\r\\nPost-Post COVID-19: Guillotines and head baskets. \\r\\r\\n\\r\\r\\n#COVID19\",\n          \"@asda is it true that you have imported Polish Beef to meet consumer demand? We have great British Beef here, I do hope this is fake news &amp; you are supporting #ukfarmers &amp; #ukagriculture as they are also key workers in the #coronavirus to ensure e\"\n        ],\n        \"semantic_type\": \"\",\n        \"description\": \"\"\n      }\n    },\n    {\n      \"column\": \"Sentiment\",\n      \"properties\": {\n        \"dtype\": \"string\",\n        \"num_unique_values\": 3,\n        \"samples\": [\n          \"Extremely Positive\",\n          \"Extremely Negative\",\n          \"Negative\"\n        ],\n        \"semantic_type\": \"\",\n        \"description\": \"\"\n      }\n    }\n  ]\n}"
            }
          },
          "metadata": {},
          "execution_count": 2
        }
      ],
      "source": [
        "df = pd.read_csv('/content/tweets_coronavirus.csv', encoding='latin-1')\n",
        "df.sample(4)"
      ]
    },
    {
      "cell_type": "markdown",
      "metadata": {
        "id": "m2OiDog9ZBlS"
      },
      "source": [
        "Для каждого твитта указано:\n",
        "\n",
        "\n",
        "*   UserName - имя пользователя, заменено на целое число для анонимности\n",
        "*   ScreenName - отображающееся имя пользователя, заменено на целое число для анонимности\n",
        "*   Location - местоположение\n",
        "*   TweetAt - дата создания твитта\n",
        "*   OriginalTweet - текст твитта\n",
        "*   Sentiment - эмоциональная окраска твитта (целевая переменная)\n",
        "\n"
      ]
    },
    {
      "cell_type": "markdown",
      "metadata": {
        "id": "pZTMseDkhTC7"
      },
      "source": [
        "## Задание 1 Подготовка (0.5 балла)"
      ]
    },
    {
      "cell_type": "markdown",
      "metadata": {
        "id": "Xx2-odn9hdAW"
      },
      "source": [
        "Целевая переменная находится в колонке `Sentiment`.  Преобразуйте ее таким образом, чтобы она стала бинарной: 1 - если у твитта положительная эмоциональная окраска и 0 - если отрицательная."
      ]
    },
    {
      "cell_type": "code",
      "source": [
        "df"
      ],
      "metadata": {
        "colab": {
          "base_uri": "https://localhost:8080/",
          "height": 424
        },
        "id": "E6U0Mt7pE5jk",
        "outputId": "80558a27-8cc7-4e4b-cf30-ca8dcd345f42"
      },
      "execution_count": 3,
      "outputs": [
        {
          "output_type": "execute_result",
          "data": {
            "text/plain": [
              "       UserName  ScreenName                      Location     TweetAt  \\\n",
              "0          3800       48752                            UK  16-03-2020   \n",
              "1          3801       48753                     Vagabonds  16-03-2020   \n",
              "2          3802       48754                           NaN  16-03-2020   \n",
              "3          3803       48755                           NaN  16-03-2020   \n",
              "4          3804       48756   ÃÂT: 36.319708,-82.363649  16-03-2020   \n",
              "...         ...         ...                           ...         ...   \n",
              "33439     44949       89901                          OHIO  14-04-2020   \n",
              "33440     44950       89902                           NaN  14-04-2020   \n",
              "33441     44952       89904                           NaN  14-04-2020   \n",
              "33442     44953       89905                           NaN  14-04-2020   \n",
              "33443     44955       89907  i love you so much || he/him  14-04-2020   \n",
              "\n",
              "                                           OriginalTweet           Sentiment  \n",
              "0      advice Talk to your neighbours family to excha...            Positive  \n",
              "1      Coronavirus Australia: Woolworths to give elde...            Positive  \n",
              "2      My food stock is not the only one which is emp...            Positive  \n",
              "3      Me, ready to go at supermarket during the #COV...  Extremely Negative  \n",
              "4      As news of the regionÃÂs first confirmed COV...            Positive  \n",
              "...                                                  ...                 ...  \n",
              "33439  I never that weÃÂd be in a situation &amp; w...            Positive  \n",
              "33440  @MrSilverScott you are definitely my man. I fe...  Extremely Positive  \n",
              "33441  Response to complaint not provided citing COVI...  Extremely Negative  \n",
              "33442  You know itÃÂs getting tough when @KameronWi...            Positive  \n",
              "33443  @TartiiCat Well new/used Rift S are going for ...            Negative  \n",
              "\n",
              "[33444 rows x 6 columns]"
            ],
            "text/html": [
              "\n",
              "  <div id=\"df-ad4f48f6-08dd-4aa9-b779-258f242ff0a8\" class=\"colab-df-container\">\n",
              "    <div>\n",
              "<style scoped>\n",
              "    .dataframe tbody tr th:only-of-type {\n",
              "        vertical-align: middle;\n",
              "    }\n",
              "\n",
              "    .dataframe tbody tr th {\n",
              "        vertical-align: top;\n",
              "    }\n",
              "\n",
              "    .dataframe thead th {\n",
              "        text-align: right;\n",
              "    }\n",
              "</style>\n",
              "<table border=\"1\" class=\"dataframe\">\n",
              "  <thead>\n",
              "    <tr style=\"text-align: right;\">\n",
              "      <th></th>\n",
              "      <th>UserName</th>\n",
              "      <th>ScreenName</th>\n",
              "      <th>Location</th>\n",
              "      <th>TweetAt</th>\n",
              "      <th>OriginalTweet</th>\n",
              "      <th>Sentiment</th>\n",
              "    </tr>\n",
              "  </thead>\n",
              "  <tbody>\n",
              "    <tr>\n",
              "      <th>0</th>\n",
              "      <td>3800</td>\n",
              "      <td>48752</td>\n",
              "      <td>UK</td>\n",
              "      <td>16-03-2020</td>\n",
              "      <td>advice Talk to your neighbours family to excha...</td>\n",
              "      <td>Positive</td>\n",
              "    </tr>\n",
              "    <tr>\n",
              "      <th>1</th>\n",
              "      <td>3801</td>\n",
              "      <td>48753</td>\n",
              "      <td>Vagabonds</td>\n",
              "      <td>16-03-2020</td>\n",
              "      <td>Coronavirus Australia: Woolworths to give elde...</td>\n",
              "      <td>Positive</td>\n",
              "    </tr>\n",
              "    <tr>\n",
              "      <th>2</th>\n",
              "      <td>3802</td>\n",
              "      <td>48754</td>\n",
              "      <td>NaN</td>\n",
              "      <td>16-03-2020</td>\n",
              "      <td>My food stock is not the only one which is emp...</td>\n",
              "      <td>Positive</td>\n",
              "    </tr>\n",
              "    <tr>\n",
              "      <th>3</th>\n",
              "      <td>3803</td>\n",
              "      <td>48755</td>\n",
              "      <td>NaN</td>\n",
              "      <td>16-03-2020</td>\n",
              "      <td>Me, ready to go at supermarket during the #COV...</td>\n",
              "      <td>Extremely Negative</td>\n",
              "    </tr>\n",
              "    <tr>\n",
              "      <th>4</th>\n",
              "      <td>3804</td>\n",
              "      <td>48756</td>\n",
              "      <td>ÃÂT: 36.319708,-82.363649</td>\n",
              "      <td>16-03-2020</td>\n",
              "      <td>As news of the regionÃÂs first confirmed COV...</td>\n",
              "      <td>Positive</td>\n",
              "    </tr>\n",
              "    <tr>\n",
              "      <th>...</th>\n",
              "      <td>...</td>\n",
              "      <td>...</td>\n",
              "      <td>...</td>\n",
              "      <td>...</td>\n",
              "      <td>...</td>\n",
              "      <td>...</td>\n",
              "    </tr>\n",
              "    <tr>\n",
              "      <th>33439</th>\n",
              "      <td>44949</td>\n",
              "      <td>89901</td>\n",
              "      <td>OHIO</td>\n",
              "      <td>14-04-2020</td>\n",
              "      <td>I never that weÃÂd be in a situation &amp;amp; w...</td>\n",
              "      <td>Positive</td>\n",
              "    </tr>\n",
              "    <tr>\n",
              "      <th>33440</th>\n",
              "      <td>44950</td>\n",
              "      <td>89902</td>\n",
              "      <td>NaN</td>\n",
              "      <td>14-04-2020</td>\n",
              "      <td>@MrSilverScott you are definitely my man. I fe...</td>\n",
              "      <td>Extremely Positive</td>\n",
              "    </tr>\n",
              "    <tr>\n",
              "      <th>33441</th>\n",
              "      <td>44952</td>\n",
              "      <td>89904</td>\n",
              "      <td>NaN</td>\n",
              "      <td>14-04-2020</td>\n",
              "      <td>Response to complaint not provided citing COVI...</td>\n",
              "      <td>Extremely Negative</td>\n",
              "    </tr>\n",
              "    <tr>\n",
              "      <th>33442</th>\n",
              "      <td>44953</td>\n",
              "      <td>89905</td>\n",
              "      <td>NaN</td>\n",
              "      <td>14-04-2020</td>\n",
              "      <td>You know itÃÂs getting tough when @KameronWi...</td>\n",
              "      <td>Positive</td>\n",
              "    </tr>\n",
              "    <tr>\n",
              "      <th>33443</th>\n",
              "      <td>44955</td>\n",
              "      <td>89907</td>\n",
              "      <td>i love you so much || he/him</td>\n",
              "      <td>14-04-2020</td>\n",
              "      <td>@TartiiCat Well new/used Rift S are going for ...</td>\n",
              "      <td>Negative</td>\n",
              "    </tr>\n",
              "  </tbody>\n",
              "</table>\n",
              "<p>33444 rows × 6 columns</p>\n",
              "</div>\n",
              "    <div class=\"colab-df-buttons\">\n",
              "\n",
              "  <div class=\"colab-df-container\">\n",
              "    <button class=\"colab-df-convert\" onclick=\"convertToInteractive('df-ad4f48f6-08dd-4aa9-b779-258f242ff0a8')\"\n",
              "            title=\"Convert this dataframe to an interactive table.\"\n",
              "            style=\"display:none;\">\n",
              "\n",
              "  <svg xmlns=\"http://www.w3.org/2000/svg\" height=\"24px\" viewBox=\"0 -960 960 960\">\n",
              "    <path d=\"M120-120v-720h720v720H120Zm60-500h600v-160H180v160Zm220 220h160v-160H400v160Zm0 220h160v-160H400v160ZM180-400h160v-160H180v160Zm440 0h160v-160H620v160ZM180-180h160v-160H180v160Zm440 0h160v-160H620v160Z\"/>\n",
              "  </svg>\n",
              "    </button>\n",
              "\n",
              "  <style>\n",
              "    .colab-df-container {\n",
              "      display:flex;\n",
              "      gap: 12px;\n",
              "    }\n",
              "\n",
              "    .colab-df-convert {\n",
              "      background-color: #E8F0FE;\n",
              "      border: none;\n",
              "      border-radius: 50%;\n",
              "      cursor: pointer;\n",
              "      display: none;\n",
              "      fill: #1967D2;\n",
              "      height: 32px;\n",
              "      padding: 0 0 0 0;\n",
              "      width: 32px;\n",
              "    }\n",
              "\n",
              "    .colab-df-convert:hover {\n",
              "      background-color: #E2EBFA;\n",
              "      box-shadow: 0px 1px 2px rgba(60, 64, 67, 0.3), 0px 1px 3px 1px rgba(60, 64, 67, 0.15);\n",
              "      fill: #174EA6;\n",
              "    }\n",
              "\n",
              "    .colab-df-buttons div {\n",
              "      margin-bottom: 4px;\n",
              "    }\n",
              "\n",
              "    [theme=dark] .colab-df-convert {\n",
              "      background-color: #3B4455;\n",
              "      fill: #D2E3FC;\n",
              "    }\n",
              "\n",
              "    [theme=dark] .colab-df-convert:hover {\n",
              "      background-color: #434B5C;\n",
              "      box-shadow: 0px 1px 3px 1px rgba(0, 0, 0, 0.15);\n",
              "      filter: drop-shadow(0px 1px 2px rgba(0, 0, 0, 0.3));\n",
              "      fill: #FFFFFF;\n",
              "    }\n",
              "  </style>\n",
              "\n",
              "    <script>\n",
              "      const buttonEl =\n",
              "        document.querySelector('#df-ad4f48f6-08dd-4aa9-b779-258f242ff0a8 button.colab-df-convert');\n",
              "      buttonEl.style.display =\n",
              "        google.colab.kernel.accessAllowed ? 'block' : 'none';\n",
              "\n",
              "      async function convertToInteractive(key) {\n",
              "        const element = document.querySelector('#df-ad4f48f6-08dd-4aa9-b779-258f242ff0a8');\n",
              "        const dataTable =\n",
              "          await google.colab.kernel.invokeFunction('convertToInteractive',\n",
              "                                                    [key], {});\n",
              "        if (!dataTable) return;\n",
              "\n",
              "        const docLinkHtml = 'Like what you see? Visit the ' +\n",
              "          '<a target=\"_blank\" href=https://colab.research.google.com/notebooks/data_table.ipynb>data table notebook</a>'\n",
              "          + ' to learn more about interactive tables.';\n",
              "        element.innerHTML = '';\n",
              "        dataTable['output_type'] = 'display_data';\n",
              "        await google.colab.output.renderOutput(dataTable, element);\n",
              "        const docLink = document.createElement('div');\n",
              "        docLink.innerHTML = docLinkHtml;\n",
              "        element.appendChild(docLink);\n",
              "      }\n",
              "    </script>\n",
              "  </div>\n",
              "\n",
              "\n",
              "<div id=\"df-2b27dbb2-df50-41bd-98b4-4c4d8fbca1df\">\n",
              "  <button class=\"colab-df-quickchart\" onclick=\"quickchart('df-2b27dbb2-df50-41bd-98b4-4c4d8fbca1df')\"\n",
              "            title=\"Suggest charts\"\n",
              "            style=\"display:none;\">\n",
              "\n",
              "<svg xmlns=\"http://www.w3.org/2000/svg\" height=\"24px\"viewBox=\"0 0 24 24\"\n",
              "     width=\"24px\">\n",
              "    <g>\n",
              "        <path d=\"M19 3H5c-1.1 0-2 .9-2 2v14c0 1.1.9 2 2 2h14c1.1 0 2-.9 2-2V5c0-1.1-.9-2-2-2zM9 17H7v-7h2v7zm4 0h-2V7h2v10zm4 0h-2v-4h2v4z\"/>\n",
              "    </g>\n",
              "</svg>\n",
              "  </button>\n",
              "\n",
              "<style>\n",
              "  .colab-df-quickchart {\n",
              "      --bg-color: #E8F0FE;\n",
              "      --fill-color: #1967D2;\n",
              "      --hover-bg-color: #E2EBFA;\n",
              "      --hover-fill-color: #174EA6;\n",
              "      --disabled-fill-color: #AAA;\n",
              "      --disabled-bg-color: #DDD;\n",
              "  }\n",
              "\n",
              "  [theme=dark] .colab-df-quickchart {\n",
              "      --bg-color: #3B4455;\n",
              "      --fill-color: #D2E3FC;\n",
              "      --hover-bg-color: #434B5C;\n",
              "      --hover-fill-color: #FFFFFF;\n",
              "      --disabled-bg-color: #3B4455;\n",
              "      --disabled-fill-color: #666;\n",
              "  }\n",
              "\n",
              "  .colab-df-quickchart {\n",
              "    background-color: var(--bg-color);\n",
              "    border: none;\n",
              "    border-radius: 50%;\n",
              "    cursor: pointer;\n",
              "    display: none;\n",
              "    fill: var(--fill-color);\n",
              "    height: 32px;\n",
              "    padding: 0;\n",
              "    width: 32px;\n",
              "  }\n",
              "\n",
              "  .colab-df-quickchart:hover {\n",
              "    background-color: var(--hover-bg-color);\n",
              "    box-shadow: 0 1px 2px rgba(60, 64, 67, 0.3), 0 1px 3px 1px rgba(60, 64, 67, 0.15);\n",
              "    fill: var(--button-hover-fill-color);\n",
              "  }\n",
              "\n",
              "  .colab-df-quickchart-complete:disabled,\n",
              "  .colab-df-quickchart-complete:disabled:hover {\n",
              "    background-color: var(--disabled-bg-color);\n",
              "    fill: var(--disabled-fill-color);\n",
              "    box-shadow: none;\n",
              "  }\n",
              "\n",
              "  .colab-df-spinner {\n",
              "    border: 2px solid var(--fill-color);\n",
              "    border-color: transparent;\n",
              "    border-bottom-color: var(--fill-color);\n",
              "    animation:\n",
              "      spin 1s steps(1) infinite;\n",
              "  }\n",
              "\n",
              "  @keyframes spin {\n",
              "    0% {\n",
              "      border-color: transparent;\n",
              "      border-bottom-color: var(--fill-color);\n",
              "      border-left-color: var(--fill-color);\n",
              "    }\n",
              "    20% {\n",
              "      border-color: transparent;\n",
              "      border-left-color: var(--fill-color);\n",
              "      border-top-color: var(--fill-color);\n",
              "    }\n",
              "    30% {\n",
              "      border-color: transparent;\n",
              "      border-left-color: var(--fill-color);\n",
              "      border-top-color: var(--fill-color);\n",
              "      border-right-color: var(--fill-color);\n",
              "    }\n",
              "    40% {\n",
              "      border-color: transparent;\n",
              "      border-right-color: var(--fill-color);\n",
              "      border-top-color: var(--fill-color);\n",
              "    }\n",
              "    60% {\n",
              "      border-color: transparent;\n",
              "      border-right-color: var(--fill-color);\n",
              "    }\n",
              "    80% {\n",
              "      border-color: transparent;\n",
              "      border-right-color: var(--fill-color);\n",
              "      border-bottom-color: var(--fill-color);\n",
              "    }\n",
              "    90% {\n",
              "      border-color: transparent;\n",
              "      border-bottom-color: var(--fill-color);\n",
              "    }\n",
              "  }\n",
              "</style>\n",
              "\n",
              "  <script>\n",
              "    async function quickchart(key) {\n",
              "      const quickchartButtonEl =\n",
              "        document.querySelector('#' + key + ' button');\n",
              "      quickchartButtonEl.disabled = true;  // To prevent multiple clicks.\n",
              "      quickchartButtonEl.classList.add('colab-df-spinner');\n",
              "      try {\n",
              "        const charts = await google.colab.kernel.invokeFunction(\n",
              "            'suggestCharts', [key], {});\n",
              "      } catch (error) {\n",
              "        console.error('Error during call to suggestCharts:', error);\n",
              "      }\n",
              "      quickchartButtonEl.classList.remove('colab-df-spinner');\n",
              "      quickchartButtonEl.classList.add('colab-df-quickchart-complete');\n",
              "    }\n",
              "    (() => {\n",
              "      let quickchartButtonEl =\n",
              "        document.querySelector('#df-2b27dbb2-df50-41bd-98b4-4c4d8fbca1df button');\n",
              "      quickchartButtonEl.style.display =\n",
              "        google.colab.kernel.accessAllowed ? 'block' : 'none';\n",
              "    })();\n",
              "  </script>\n",
              "</div>\n",
              "    </div>\n",
              "  </div>\n"
            ],
            "application/vnd.google.colaboratory.intrinsic+json": {
              "type": "dataframe",
              "variable_name": "df",
              "summary": "{\n  \"name\": \"df\",\n  \"rows\": 33444,\n  \"fields\": [\n    {\n      \"column\": \"UserName\",\n      \"properties\": {\n        \"dtype\": \"number\",\n        \"std\": 11875,\n        \"min\": 3800,\n        \"max\": 44955,\n        \"num_unique_values\": 33444,\n        \"samples\": [\n          33995,\n          17124,\n          18421\n        ],\n        \"semantic_type\": \"\",\n        \"description\": \"\"\n      }\n    },\n    {\n      \"column\": \"ScreenName\",\n      \"properties\": {\n        \"dtype\": \"number\",\n        \"std\": 11875,\n        \"min\": 48752,\n        \"max\": 89907,\n        \"num_unique_values\": 33444,\n        \"samples\": [\n          78947,\n          62076,\n          63373\n        ],\n        \"semantic_type\": \"\",\n        \"description\": \"\"\n      }\n    },\n    {\n      \"column\": \"Location\",\n      \"properties\": {\n        \"dtype\": \"category\",\n        \"num_unique_values\": 10465,\n        \"samples\": [\n          \"Kitchener | Ontario | Canada\",\n          \"Montr\\u00c3\\u0083\\u00c2\\u00a9al\",\n          \"England. Germany.\"\n        ],\n        \"semantic_type\": \"\",\n        \"description\": \"\"\n      }\n    },\n    {\n      \"column\": \"TweetAt\",\n      \"properties\": {\n        \"dtype\": \"object\",\n        \"num_unique_values\": 30,\n        \"samples\": [\n          \"12-04-2020\",\n          \"31-03-2020\",\n          \"08-04-2020\"\n        ],\n        \"semantic_type\": \"\",\n        \"description\": \"\"\n      }\n    },\n    {\n      \"column\": \"OriginalTweet\",\n      \"properties\": {\n        \"dtype\": \"string\",\n        \"num_unique_values\": 33444,\n        \"samples\": [\n          \"US death toll is way less than estimated. This I hope will bring back consumer confidence #coronavirus #Covid_19 #CoronavirusUSA\",\n          \"We will get through this by people helping people and not stock piling food and toiletries, selfish pricks #Covid_19\",\n          \"#rice prices soar to two-year high, traders blame it on #coronavirus panic buying, writes #YasirWardad https://t.co/hIXzS1DKdo #FE via @febdonline\"\n        ],\n        \"semantic_type\": \"\",\n        \"description\": \"\"\n      }\n    },\n    {\n      \"column\": \"Sentiment\",\n      \"properties\": {\n        \"dtype\": \"category\",\n        \"num_unique_values\": 4,\n        \"samples\": [\n          \"Extremely Negative\",\n          \"Extremely Positive\",\n          \"Positive\"\n        ],\n        \"semantic_type\": \"\",\n        \"description\": \"\"\n      }\n    }\n  ]\n}"
            }
          },
          "metadata": {},
          "execution_count": 3
        }
      ]
    },
    {
      "cell_type": "code",
      "execution_count": 4,
      "metadata": {
        "id": "ZaQKQ1zEjP15",
        "colab": {
          "base_uri": "https://localhost:8080/"
        },
        "outputId": "33b80dc7-07b8-459e-83bb-7f8ee2d5ad5b"
      },
      "outputs": [
        {
          "output_type": "execute_result",
          "data": {
            "text/plain": [
              "array(['Positive', 'Extremely Negative', 'Negative', 'Extremely Positive'],\n",
              "      dtype=object)"
            ]
          },
          "metadata": {},
          "execution_count": 4
        }
      ],
      "source": [
        "df['Sentiment'].unique()"
      ]
    },
    {
      "cell_type": "code",
      "source": [
        "df = df.replace(df['Sentiment'].unique(), [1, 0, 0, 1])"
      ],
      "metadata": {
        "id": "EQtV6C72Ejn4"
      },
      "execution_count": 5,
      "outputs": []
    },
    {
      "cell_type": "markdown",
      "metadata": {
        "id": "pGq1FxJ-kBo5"
      },
      "source": [
        "Сбалансированы ли классы?"
      ]
    },
    {
      "cell_type": "code",
      "source": [
        "df['Sentiment'].value_counts()"
      ],
      "metadata": {
        "id": "9sLl_roHdDHM",
        "colab": {
          "base_uri": "https://localhost:8080/"
        },
        "outputId": "55764747-96bd-417d-cac9-f5c912a12c8b"
      },
      "execution_count": 6,
      "outputs": [
        {
          "output_type": "execute_result",
          "data": {
            "text/plain": [
              "Sentiment\n",
              "1    18046\n",
              "0    15398\n",
              "Name: count, dtype: int64"
            ]
          },
          "metadata": {},
          "execution_count": 6
        }
      ]
    },
    {
      "cell_type": "code",
      "execution_count": 7,
      "metadata": {
        "id": "a7gdNtxckK5V",
        "colab": {
          "base_uri": "https://localhost:8080/"
        },
        "outputId": "27f31e90-87c0-4574-eec0-78cdab18ea5b"
      },
      "outputs": [
        {
          "output_type": "execute_result",
          "data": {
            "text/plain": [
              "0.5395885659610095"
            ]
          },
          "metadata": {},
          "execution_count": 7
        }
      ],
      "source": [
        "df[df['Sentiment'] == 1].shape[0] / df.shape[0]"
      ]
    },
    {
      "cell_type": "markdown",
      "metadata": {
        "id": "Ng8BCelMkWb0"
      },
      "source": [
        "**Ответ:** Положительные ответы составляют почти 54% всех данных, значит классы сбалансированы.\n"
      ]
    },
    {
      "cell_type": "markdown",
      "metadata": {
        "id": "qmSIBSsLk5Zz"
      },
      "source": [
        "Выведете на экран информацию о пропусках в данных. Если пропуски присутствуют заполните их строкой 'Unknown'."
      ]
    },
    {
      "cell_type": "code",
      "execution_count": 8,
      "metadata": {
        "id": "UhUVRkR5kxa7",
        "colab": {
          "base_uri": "https://localhost:8080/"
        },
        "outputId": "e1ad2300-ecc2-40a5-baec-6e1e237fcbcb"
      },
      "outputs": [
        {
          "output_type": "execute_result",
          "data": {
            "text/plain": [
              "Index(['UserName', 'ScreenName', 'Location', 'TweetAt', 'OriginalTweet',\n",
              "       'Sentiment'],\n",
              "      dtype='object')"
            ]
          },
          "metadata": {},
          "execution_count": 8
        }
      ],
      "source": [
        "df[df.isna() == True].columns"
      ]
    },
    {
      "cell_type": "code",
      "source": [
        "df = df.fillna('Unknown')"
      ],
      "metadata": {
        "id": "2YOBvJd_G0PO"
      },
      "execution_count": 10,
      "outputs": []
    },
    {
      "cell_type": "code",
      "source": [
        "df.isna().values.any()"
      ],
      "metadata": {
        "colab": {
          "base_uri": "https://localhost:8080/"
        },
        "id": "bbRKNqapHHZP",
        "outputId": "a9073038-3621-439a-db20-afed8b50d3dd"
      },
      "execution_count": 11,
      "outputs": [
        {
          "output_type": "execute_result",
          "data": {
            "text/plain": [
              "False"
            ]
          },
          "metadata": {},
          "execution_count": 11
        }
      ]
    },
    {
      "cell_type": "markdown",
      "metadata": {
        "id": "1tzt27tfjUpq"
      },
      "source": [
        "Разделите данные на обучающие и тестовые в соотношении 7 : 3 и `random_state=0`"
      ]
    },
    {
      "cell_type": "code",
      "execution_count": 12,
      "metadata": {
        "id": "xSLOA9tIj9Z6"
      },
      "outputs": [],
      "source": [
        "from sklearn.model_selection import train_test_split\n",
        "\n",
        "X = df.drop(['Sentiment'], axis=1)\n",
        "y = df['Sentiment']\n",
        "\n",
        "X_train, X_test, y_train, y_test = train_test_split(X, y, test_size=0.3, random_state=np.random.seed(42))"
      ]
    },
    {
      "cell_type": "markdown",
      "metadata": {
        "id": "J9RrPUsJlL60"
      },
      "source": [
        "## Задание 2 Токенизация (3 балла)"
      ]
    },
    {
      "cell_type": "markdown",
      "metadata": {
        "id": "2Dz_b7Xopc_R"
      },
      "source": [
        "Постройте словарь на основе обучающей выборки и посчитайте количество встреч каждого токена с использованием самой простой токенизации - деления текстов по пробельным символам и приведение токенов в нижний регистр"
      ]
    },
    {
      "cell_type": "code",
      "source": [
        "allwords = []\n",
        "for line in X_train['OriginalTweet']:\n",
        "  for w in line.split():\n",
        "    allwords.append(w.lower())"
      ],
      "metadata": {
        "id": "qUv7A8AUS34x"
      },
      "execution_count": 13,
      "outputs": []
    },
    {
      "cell_type": "code",
      "source": [
        "all_words = nltk.FreqDist(allwords)"
      ],
      "metadata": {
        "id": "4kt37JKWTIPM"
      },
      "execution_count": 14,
      "outputs": []
    },
    {
      "cell_type": "markdown",
      "metadata": {
        "id": "Pe0h2Jqkpnao"
      },
      "source": [
        "Какой размер словаря получился?"
      ]
    },
    {
      "cell_type": "code",
      "execution_count": 15,
      "metadata": {
        "id": "umyENA7EpokD",
        "colab": {
          "base_uri": "https://localhost:8080/"
        },
        "outputId": "c9631188-4cbc-4994-be95-0663223729e6"
      },
      "outputs": [
        {
          "output_type": "execute_result",
          "data": {
            "text/plain": [
              "79513"
            ]
          },
          "metadata": {},
          "execution_count": 15
        }
      ],
      "source": [
        "len(all_words)"
      ]
    },
    {
      "cell_type": "markdown",
      "metadata": {
        "id": "0d2G1Z-Qpqkd"
      },
      "source": [
        "Выведите 10 самых популярных токенов с количеством встреч каждого из них. Объясните, почему именно эти токены в топе"
      ]
    },
    {
      "cell_type": "code",
      "execution_count": 16,
      "metadata": {
        "id": "Impi32a_pssg",
        "colab": {
          "base_uri": "https://localhost:8080/"
        },
        "outputId": "7873389e-4a4f-4c6a-a836-b7d7b7764206"
      },
      "outputs": [
        {
          "output_type": "execute_result",
          "data": {
            "text/plain": [
              "[('the', 26772),\n",
              " ('to', 23480),\n",
              " ('and', 14566),\n",
              " ('of', 13053),\n",
              " ('a', 11537),\n",
              " ('in', 11201),\n",
              " ('for', 8541),\n",
              " ('#coronavirus', 8168),\n",
              " ('is', 7396),\n",
              " ('are', 6898)]"
            ]
          },
          "metadata": {},
          "execution_count": 16
        }
      ],
      "source": [
        "all_words.most_common(10)"
      ]
    },
    {
      "cell_type": "markdown",
      "metadata": {
        "id": "ZtuJCD0ApuFd"
      },
      "source": [
        "**Ответ:** Потому что на данном этапе мы не убрали стоп-слова из словаря, поэтому самыми часто используемыми словами оказались слова, которые чаще всего используются в английском языке."
      ]
    },
    {
      "cell_type": "markdown",
      "metadata": {
        "id": "T7DTQDkWsVYp"
      },
      "source": [
        "Удалите стоп-слова из словаря и выведите новый топ-10 токенов (и количество встреч) по популярности.  Что можно сказать  о нем?"
      ]
    },
    {
      "cell_type": "code",
      "execution_count": 17,
      "metadata": {
        "id": "8csSAdgTsnFx",
        "colab": {
          "base_uri": "https://localhost:8080/"
        },
        "outputId": "293186aa-18e9-43bd-f145-6c62fbc73368"
      },
      "outputs": [
        {
          "output_type": "execute_result",
          "data": {
            "text/plain": [
              "[('#coronavirus', 8168),\n",
              " ('prices', 3895),\n",
              " ('food', 3845),\n",
              " ('grocery', 3425),\n",
              " ('supermarket', 3278),\n",
              " ('covid-19', 3174),\n",
              " ('store', 3171),\n",
              " ('people', 3142),\n",
              " ('#covid19', 2483),\n",
              " ('consumer', 2262)]"
            ]
          },
          "metadata": {},
          "execution_count": 17
        }
      ],
      "source": [
        "from nltk.corpus import stopwords\n",
        "\n",
        "nltk.download(\"stopwords\", quiet=True)\n",
        "\n",
        "stop_words = set(stopwords.words('english'))\n",
        "\n",
        "filtered = [w for w in allwords if not w in stop_words]\n",
        "\n",
        "all_words = nltk.FreqDist(filtered)\n",
        "all_words.most_common(10)"
      ]
    },
    {
      "cell_type": "markdown",
      "metadata": {
        "id": "LZH0x2Lzs-Dh"
      },
      "source": [
        "**Ответ:**  Здесь уже можно увидеть более содержательные слова, напрямую относящиеся к теме коронавируса."
      ]
    },
    {
      "cell_type": "markdown",
      "metadata": {
        "id": "TKSGRyI-uor0"
      },
      "source": [
        "Также выведите 20 самых непопулярных слов (если самых непопулярных слов больше выведите любые 20 из них) Почему эти токены непопулярны, требуется ли как-то дополнительно работать с ними?"
      ]
    },
    {
      "cell_type": "code",
      "source": [
        "all_words.most_common()[-20:]"
      ],
      "metadata": {
        "colab": {
          "base_uri": "https://localhost:8080/"
        },
        "id": "psRncA4jg9HO",
        "outputId": "b12f5628-8b95-4a09-b55f-5211ce2c08fb"
      },
      "execution_count": 18,
      "outputs": [
        {
          "output_type": "execute_result",
          "data": {
            "text/plain": [
              "[('https://t.co/jbykncmrxf', 1),\n",
              " ('https://t.co/vsiiwruts7', 1),\n",
              " ('https://t.co/f62lteprso', 1),\n",
              " (\"colombia's\", 1),\n",
              " ('@mauriciocard', 1),\n",
              " ('aq:', 1),\n",
              " ('outflows', 1),\n",
              " ('\"unavoidable\"', 1),\n",
              " ('https://t.co/x3nflaebnk', 1),\n",
              " ('https://t.co/cywvxl4hzx', 1),\n",
              " ('.@nclc4consumers', 1),\n",
              " ('\"surviving', 1),\n",
              " ('debt\"', 1),\n",
              " ('link,', 1),\n",
              " ('https://t.co/1whyfial70', 1),\n",
              " ('islands,', 1),\n",
              " ('https://t.co/1ioo4mlmzc', 1),\n",
              " ('enraging!!', 1),\n",
              " ('https://t.co/ksnz52unrv', 1),\n",
              " ('https://t.co/i2wsgmzxtg', 1)]"
            ]
          },
          "metadata": {},
          "execution_count": 18
        }
      ]
    },
    {
      "cell_type": "markdown",
      "metadata": {
        "id": "uRp3J1gQunlR"
      },
      "source": [
        "**Ответ:** Многие непопулярные токены здесь - это по сути шум: ссылки, отметки людей и тд. Это будет мешать нам в дальнейшем, так что нужно будет их убрать.\n",
        "\n"
      ]
    },
    {
      "cell_type": "markdown",
      "metadata": {
        "id": "wx9LQOSPzvjV"
      },
      "source": [
        "Теперь воспользуемся токенайзером получше - TweetTokenizer из библиотеки nltk. Примените его и посмотрите на топ-10 популярных слов. Чем он отличается от топа, который получался раньше? Почему?"
      ]
    },
    {
      "cell_type": "code",
      "execution_count": 19,
      "metadata": {
        "id": "2G1UkyVxzvFY",
        "colab": {
          "base_uri": "https://localhost:8080/"
        },
        "outputId": "9e69f992-2a46-453c-808d-8c1efb178481"
      },
      "outputs": [
        {
          "output_type": "execute_result",
          "data": {
            "text/plain": [
              "[('the', 26956),\n",
              " ('.', 23945),\n",
              " ('to', 23587),\n",
              " (',', 17430),\n",
              " ('and', 14709),\n",
              " ('of', 13082),\n",
              " ('a', 11680),\n",
              " ('in', 11342),\n",
              " ('?', 9725),\n",
              " ('#coronavirus', 8727)]"
            ]
          },
          "metadata": {},
          "execution_count": 19
        }
      ],
      "source": [
        "from nltk.tokenize import TweetTokenizer\n",
        "\n",
        "tw = TweetTokenizer()\n",
        "\n",
        "tw_words = []\n",
        "for tweet in X_train['OriginalTweet']:\n",
        "  for w in tw.tokenize(tweet.lower()):\n",
        "    tw_words.append(w)\n",
        "\n",
        "tw_dict = nltk.FreqDist(tw_words)\n",
        "tw_dict.most_common(10)"
      ]
    },
    {
      "cell_type": "markdown",
      "metadata": {
        "id": "50eVUnJN1Zxl"
      },
      "source": [
        "**Ответ:** Данный токенайзер воспринимает пунктуацию, как отдельные слова, так что они тоже попали в топ-10."
      ]
    },
    {
      "cell_type": "markdown",
      "metadata": {
        "id": "1gqQgiMs11bs"
      },
      "source": [
        "Удалите из словаря стоп-слова и пунктуацию, посмотрите на новый топ-10 слов с количеством встреч, есть ли теперь в нем что-то не похожее на слова?"
      ]
    },
    {
      "cell_type": "code",
      "execution_count": 20,
      "metadata": {
        "id": "0yHWdFrp0Mup",
        "colab": {
          "base_uri": "https://localhost:8080/"
        },
        "outputId": "1867d976-d985-4b72-abfe-bfa969dbab0a"
      },
      "outputs": [
        {
          "output_type": "execute_result",
          "data": {
            "text/plain": [
              "[('#coronavirus', 8727),\n",
              " ('â', 7272),\n",
              " ('\\x82', 7165),\n",
              " ('19', 7146),\n",
              " ('covid', 6211),\n",
              " ('prices', 4603),\n",
              " ('food', 4411),\n",
              " ('\\x92', 4301),\n",
              " ('store', 3862),\n",
              " ('supermarket', 3819)]"
            ]
          },
          "metadata": {},
          "execution_count": 20
        }
      ],
      "source": [
        "from string import punctuation\n",
        "\n",
        "noise = stopwords.words(\"english\") + list(punctuation)\n",
        "\n",
        "tw_filtered = [w for w in tw_words if not w in noise]\n",
        "\n",
        "tw_dict = nltk.FreqDist(tw_filtered)\n",
        "tw_dict.most_common(10)"
      ]
    },
    {
      "cell_type": "markdown",
      "metadata": {
        "id": "8ZJqXELP_Yxy"
      },
      "source": [
        "**Ответ:** Есть странные символы с \\х82 и \\х92, а также символ, похожий на букву а."
      ]
    },
    {
      "cell_type": "markdown",
      "metadata": {
        "id": "rzXjMsSB_kXB"
      },
      "source": [
        "Удалите из словаря токены из одного символа, с позицией в таблице Unicode 128 и более (`ord(x) >= 128`)\n",
        "\n",
        "Выведите топ-10 самых популярных и топ-20 непопулярных слов. Чем полученные топы отличаются от итоговых топов, полученных при использовании токенизации по пробелам? Что теперь лучше, а что хуже?"
      ]
    },
    {
      "cell_type": "code",
      "execution_count": 21,
      "metadata": {
        "id": "1695hlkS_1-J",
        "colab": {
          "base_uri": "https://localhost:8080/"
        },
        "outputId": "d4cc2762-debb-46b6-9589-9b58d2b29607"
      },
      "outputs": [
        {
          "output_type": "execute_result",
          "data": {
            "text/plain": [
              "[('#coronavirus', 8727),\n",
              " ('19', 7146),\n",
              " ('covid', 6211),\n",
              " ('prices', 4603),\n",
              " ('food', 4411),\n",
              " ('store', 3862),\n",
              " ('supermarket', 3819),\n",
              " ('grocery', 3481),\n",
              " ('people', 3418),\n",
              " ('#covid19', 2593)]"
            ]
          },
          "metadata": {},
          "execution_count": 21
        }
      ],
      "source": [
        "tw_filtered = [token for token in tw_filtered if len(token) > 1 or ord(token) < 128]\n",
        "\n",
        "tw_dict = nltk.FreqDist(tw_filtered)\n",
        "tw_dict.most_common(10)"
      ]
    },
    {
      "cell_type": "code",
      "source": [
        "tw_dict.most_common()[-20:]"
      ],
      "metadata": {
        "colab": {
          "base_uri": "https://localhost:8080/"
        },
        "id": "gvtIeJO3sZvk",
        "outputId": "bd853c2e-7a1f-4ab4-efeb-6a2c9eb4db46"
      },
      "execution_count": 22,
      "outputs": [
        {
          "output_type": "execute_result",
          "data": {
            "text/plain": [
              "[('opportunism', 1),\n",
              " ('#stopprofiteering', 1),\n",
              " ('https://t.co/dhj10u2kso', 1),\n",
              " ('hickey', 1),\n",
              " (\"#al's\", 1),\n",
              " (\"al's\", 1),\n",
              " ('karwick', 1),\n",
              " ('https://t.co/jbykncmrxf', 1),\n",
              " ('https://t.co/vsiiwruts7', 1),\n",
              " ('https://t.co/f62lteprso', 1),\n",
              " (\"colombia's\", 1),\n",
              " ('@mauriciocard', 1),\n",
              " ('aq', 1),\n",
              " ('outflows', 1),\n",
              " ('https://t.co/x3nflaebnk', 1),\n",
              " ('https://t.co/cywvxl4hzx', 1),\n",
              " ('https://t.co/1whyfial70', 1),\n",
              " ('https://t.co/1ioo4mlmzc', 1),\n",
              " ('https://t.co/ksnz52unrv', 1),\n",
              " ('https://t.co/i2wsgmzxtg', 1)]"
            ]
          },
          "metadata": {},
          "execution_count": 22
        }
      ]
    },
    {
      "cell_type": "markdown",
      "metadata": {
        "id": "KzjHAKIlDvc6"
      },
      "source": [
        "**Ответ:** В основном изменились положения слов в топе (их количество в твитах)."
      ]
    },
    {
      "cell_type": "markdown",
      "metadata": {
        "id": "EcDf9_6HB2zm"
      },
      "source": [
        "Выведите топ-10 популярных хештегов с количеством встреч. Что можно сказать о них?"
      ]
    },
    {
      "cell_type": "code",
      "execution_count": 23,
      "metadata": {
        "id": "zk4fygCUBw3l",
        "colab": {
          "base_uri": "https://localhost:8080/"
        },
        "outputId": "91cbc447-63d9-488f-c21a-bcef5f5efffa"
      },
      "outputs": [
        {
          "output_type": "execute_result",
          "data": {
            "text/plain": [
              "[('#coronavirus', 8727),\n",
              " ('#covid19', 2593),\n",
              " ('#covid_19', 1724),\n",
              " ('#covid2019', 947),\n",
              " ('#toiletpaper', 753),\n",
              " ('#covid', 636),\n",
              " ('#socialdistancing', 468),\n",
              " ('#coronacrisis', 446),\n",
              " ('#pandemic', 245),\n",
              " ('#coronaviruspandemic', 244)]"
            ]
          },
          "metadata": {},
          "execution_count": 23
        }
      ],
      "source": [
        "hashtags = [ht for ht in tw_filtered if ht[0] == '#']\n",
        "ht_dict = nltk.FreqDist(hashtags)\n",
        "ht_dict.most_common(10)"
      ]
    },
    {
      "cell_type": "markdown",
      "metadata": {
        "id": "-6NeNWBkDxM7"
      },
      "source": [
        "**Ответ:** Они все напрямую связаны с темой твитов - коронавирусом."
      ]
    },
    {
      "cell_type": "markdown",
      "metadata": {
        "id": "LLYBg7caD5GA"
      },
      "source": [
        "То же самое проделайте для ссылок на сайт https://t.co Сравнима ли популярность ссылок с популярностью хештегов? Будет ли информация о ссылке на конкретную страницу полезна?"
      ]
    },
    {
      "cell_type": "code",
      "execution_count": 24,
      "metadata": {
        "id": "MXbm1oeaCK9S",
        "colab": {
          "base_uri": "https://localhost:8080/"
        },
        "outputId": "9a54567d-2670-4c3e-d921-28f2bd921bed"
      },
      "outputs": [
        {
          "output_type": "execute_result",
          "data": {
            "text/plain": [
              "[('https://t.co/3kfuiojxep', 4),\n",
              " ('https://t.co/r7sagojsjg', 4),\n",
              " ('https://t.co/wrlhyzizaa', 4),\n",
              " ('https://t.co/oi39zsanq8', 3),\n",
              " ('https://t.co/gp3eusapl8', 3),\n",
              " ('https://t.co/kuwipf1kqw', 3),\n",
              " ('https://t.co/za8rewpvvb', 3),\n",
              " ('https://t.co/6yvykiab2c', 3),\n",
              " ('https://t.co/xpcm2xkj4o', 3),\n",
              " ('https://t.co/pe99mhrsat', 3)]"
            ]
          },
          "metadata": {},
          "execution_count": 24
        }
      ],
      "source": [
        "links = [link for link in tw_filtered if link[:12] == 'https://t.co']\n",
        "links_dict = nltk.FreqDist(links)\n",
        "links_dict.most_common(10)"
      ]
    },
    {
      "cell_type": "markdown",
      "metadata": {
        "id": "at6lRYZ8A07N"
      },
      "source": [
        "**Ответ:** Ссылки встречаются крайне редко и не несут никакой информативной важности для нас."
      ]
    },
    {
      "cell_type": "markdown",
      "metadata": {
        "id": "IOGdUU1kBU1D"
      },
      "source": [
        "Используем опыт предыдущих экспериментов и напишем собственный токенайзер, улучшив TweetTokenizer. Функция tokenize должна:\n",
        "\n",
        "\n",
        "\n",
        "*   Привести текст в нижний регистр\n",
        "*   Применить TweetTokenizer для изначального выделения токенов\n",
        "*   Удалить стоп-слова, пунктуацию, токены из одного символа, с позицией в таблице Unicode 128 и более и ссылки на t.co\n",
        "\n"
      ]
    },
    {
      "cell_type": "code",
      "execution_count": 25,
      "metadata": {
        "id": "ctEsB6xkFrrK"
      },
      "outputs": [],
      "source": [
        "def custom_tokenizer(text):\n",
        "  tokens = []\n",
        "  tw = TweetTokenizer()\n",
        "  noise = stopwords.words(\"english\") + list(punctuation)\n",
        "  for w in tw.tokenize(text.lower()):\n",
        "    if (len(w) > 1 or ord(w) < 128) and not w in noise and w[:12] != 'https://t.co':\n",
        "      tokens.append(w)\n",
        "\n",
        "  return tokens\n"
      ]
    },
    {
      "cell_type": "code",
      "execution_count": 26,
      "metadata": {
        "colab": {
          "base_uri": "https://localhost:8080/"
        },
        "id": "XwbgtYkJGYym",
        "outputId": "21bbf298-5df3-4701-d5a6-76ce54ab1e53"
      },
      "outputs": [
        {
          "output_type": "execute_result",
          "data": {
            "text/plain": [
              "['sample', 'text', '@sample_text', '#sampletext']"
            ]
          },
          "metadata": {},
          "execution_count": 26
        }
      ],
      "source": [
        "custom_tokenizer('This is sample text!!!! @Sample_text I, \\x92\\x92 https://t.co/sample  #sampletext')"
      ]
    },
    {
      "cell_type": "markdown",
      "metadata": {
        "id": "wURVABmXHk97"
      },
      "source": [
        "## Задание 3 Векторизация текстов (2 балла)"
      ]
    },
    {
      "cell_type": "markdown",
      "metadata": {
        "id": "H44iXkoHIQfN"
      },
      "source": [
        "Обучите CountVectorizer с использованием custom_tokenizer в качестве токенайзера. Как размер полученного словаря соотносится с размером изначального словаря из начала задания 2?"
      ]
    },
    {
      "cell_type": "code",
      "source": [
        "from sklearn.feature_extraction.text import CountVectorizer\n",
        "\n",
        "cv = CountVectorizer(tokenizer=custom_tokenizer)\n",
        "\n",
        "cv_train = cv.fit_transform(X_train['OriginalTweet'])\n",
        "\n",
        "print(len(cv.vocabulary_))"
      ],
      "metadata": {
        "colab": {
          "base_uri": "https://localhost:8080/"
        },
        "id": "razAS2rvKpzK",
        "outputId": "1e1bfbe9-6bb1-4010-c5fb-74c4527b496e"
      },
      "execution_count": 34,
      "outputs": [
        {
          "output_type": "stream",
          "name": "stderr",
          "text": [
            "/usr/local/lib/python3.10/dist-packages/sklearn/feature_extraction/text.py:528: UserWarning: The parameter 'token_pattern' will not be used since 'tokenizer' is not None'\n",
            "  warnings.warn(\n"
          ]
        },
        {
          "output_type": "stream",
          "name": "stdout",
          "text": [
            "45180\n"
          ]
        }
      ]
    },
    {
      "cell_type": "code",
      "source": [
        "cv_train.shape"
      ],
      "metadata": {
        "colab": {
          "base_uri": "https://localhost:8080/"
        },
        "id": "KCRVXbk9zkYJ",
        "outputId": "17d0f482-2cfe-41f4-959e-0159582278c6"
      },
      "execution_count": 30,
      "outputs": [
        {
          "output_type": "execute_result",
          "data": {
            "text/plain": [
              "(23410, 45180)"
            ]
          },
          "metadata": {},
          "execution_count": 30
        }
      ]
    },
    {
      "cell_type": "markdown",
      "metadata": {
        "id": "gsfmaSGoItUm"
      },
      "source": [
        "**Ответ:** Словарь уменьшился почти в 2 раза."
      ]
    },
    {
      "cell_type": "markdown",
      "metadata": {
        "id": "lm6UHNmqKZT0"
      },
      "source": [
        "Посмотрим на какой-нибудь конкретный твитт:"
      ]
    },
    {
      "cell_type": "code",
      "source": [
        "ind = 9023\n",
        "df.iloc[ind]['OriginalTweet'], df.iloc[ind]['Sentiment']"
      ],
      "metadata": {
        "colab": {
          "base_uri": "https://localhost:8080/"
        },
        "id": "cE8gLKSEAaJg",
        "outputId": "c45c7541-ab15-4619-b7c8-bdf06d2dd712"
      },
      "execution_count": 31,
      "outputs": [
        {
          "output_type": "execute_result",
          "data": {
            "text/plain": [
              "(\"Shop keepers taking advantage of #Coronavirus boosting prices disproportionately so the most Marginalised suffer who can't afford it #SHAMEONYOU #Wewillremember\",\n",
              " 0)"
            ]
          },
          "metadata": {},
          "execution_count": 31
        }
      ]
    },
    {
      "cell_type": "markdown",
      "metadata": {
        "id": "PBMIHBI5KdaS"
      },
      "source": [
        "Автор твитта не доволен ситуацией с едой во Франции и текст имеет резко негативную окраску.\n",
        "\n",
        "Примените обученный CountVectorizer для векторизации данного текста, и попытайтесь определить самый важный токен и самый неважный токен (токен, компонента которого в векторе максимальна/минимальна, без учета 0). Хорошо ли они определились, почему?"
      ]
    },
    {
      "cell_type": "code",
      "source": [
        "tweet = custom_tokenizer(df.iloc[ind]['OriginalTweet'])\n",
        "cv_tweet = cv.transform(tweet)\n",
        "\n",
        "tweet_tokens = cv.get_feature_names_out()\n",
        "\n",
        "matrix = cv_tweet.toarray()\n",
        "non_zero = np.nonzero(matrix)[1]\n",
        "maxx = np.argmax(matrix[:, non_zero])\n",
        "minn = np.argmin(matrix[:, non_zero])\n",
        "\n",
        "most = tweet_tokens[non_zero[maxx]]\n",
        "least = tweet_tokens[non_zero[minn]]\n",
        "\n",
        "most, least"
      ],
      "metadata": {
        "colab": {
          "base_uri": "https://localhost:8080/"
        },
        "id": "eFVlkquhGC7M",
        "outputId": "1d10f0f8-502b-4914-8425-8f3f5e7871d4"
      },
      "execution_count": 41,
      "outputs": [
        {
          "output_type": "execute_result",
          "data": {
            "text/plain": [
              "('shop', 'keepers')"
            ]
          },
          "metadata": {},
          "execution_count": 41
        }
      ]
    },
    {
      "cell_type": "markdown",
      "metadata": {
        "id": "TpEsl1k_NF4T"
      },
      "source": [
        "**Ответ:** Они получились достаточно логичными, но текст твита довольно короткий, так что данные токены не являются особо показательными."
      ]
    },
    {
      "cell_type": "markdown",
      "metadata": {
        "id": "w4DsEQpLO3J6"
      },
      "source": [
        "Теперь примените TfidfVectorizer и  определите самый важный/неважный токены. Хорошо ли определились, почему?"
      ]
    },
    {
      "cell_type": "code",
      "execution_count": 42,
      "metadata": {
        "id": "uSNzdK3ENGB3",
        "colab": {
          "base_uri": "https://localhost:8080/"
        },
        "outputId": "75450323-fac9-4ac4-f269-f1f0967fedc3"
      },
      "outputs": [
        {
          "output_type": "stream",
          "name": "stderr",
          "text": [
            "/usr/local/lib/python3.10/dist-packages/sklearn/feature_extraction/text.py:528: UserWarning: The parameter 'token_pattern' will not be used since 'tokenizer' is not None'\n",
            "  warnings.warn(\n"
          ]
        },
        {
          "output_type": "execute_result",
          "data": {
            "text/plain": [
              "('shop', 'keepers')"
            ]
          },
          "metadata": {},
          "execution_count": 42
        }
      ],
      "source": [
        "from sklearn.feature_extraction.text import TfidfVectorizer\n",
        "\n",
        "tfidf = TfidfVectorizer(tokenizer=custom_tokenizer).fit(X_train['OriginalTweet'])\n",
        "tfidf_tweet = tfidf.transform(tweet)\n",
        "\n",
        "tweet_tokens = tfidf.get_feature_names_out()\n",
        "\n",
        "matrix = tfidf_tweet.toarray()\n",
        "non_zero = np.nonzero(matrix)[1]\n",
        "maxx = np.argmax(matrix[:, non_zero])\n",
        "minn = np.argmin(matrix[:, non_zero])\n",
        "\n",
        "most = tweet_tokens[non_zero[maxx]]\n",
        "least = tweet_tokens[non_zero[minn]]\n",
        "\n",
        "most, least"
      ]
    },
    {
      "cell_type": "markdown",
      "metadata": {
        "id": "NYao_UhqQADm"
      },
      "source": [
        "**Ответ:** Определились такие же токены, что и в CountVectorizer."
      ]
    },
    {
      "cell_type": "markdown",
      "metadata": {
        "id": "LGRJPqfWSesQ"
      },
      "source": [
        "Найдите какой-нибудь положительно окрашенный твитт, где TfidfVectorizer хорошо (полезно для определения окраски) выделяет важный токен, поясните пример.\n",
        "\n",
        "*Подсказка:* явно положительные твитты можно искать при помощи положительных слов (good, great, amazing и т. д.)"
      ]
    },
    {
      "cell_type": "code",
      "execution_count": 44,
      "metadata": {
        "id": "bRbQ2CHiSuJI",
        "colab": {
          "base_uri": "https://localhost:8080/",
          "height": 52
        },
        "outputId": "2dcd5185-12df-46b0-9d2c-39f9cdf09dab"
      },
      "outputs": [
        {
          "output_type": "execute_result",
          "data": {
            "text/plain": [
              "'I love this ?? all grocery stores should have a set hour (preferably in the morning) for the elderly population or those with compromised immune systems to use the store. ThatÃ\\x82Â\\x92s good, clear thinking.\\r\\r\\n.\\r\\r\\n@brianschatz @maziehirono @NYGovCuomo @GovInslee \\r\\r\\n#COVID?19 #coronavirus https://t.co/TMQH0CSeIN'"
            ],
            "application/vnd.google.colaboratory.intrinsic+json": {
              "type": "string"
            }
          },
          "metadata": {},
          "execution_count": 44
        }
      ],
      "source": [
        "good_tweet = df[df['OriginalTweet'].apply(lambda x: 'good' in x) & (df['Sentiment'] == 1)].iloc[1, :]['OriginalTweet']\n",
        "good_tweet"
      ]
    },
    {
      "cell_type": "code",
      "source": [
        "good_tweet = custom_tokenizer(good_tweet)\n",
        "good_tfidf_tweet = tfidf.transform(good_tweet)\n",
        "\n",
        "good_tweet_tokens = tfidf.get_feature_names_out()\n",
        "\n",
        "matrix = good_tfidf_tweet.toarray()\n",
        "maxx = matrix.argmax(axis=1)\n",
        "\n",
        "most_imp = good_tweet_tokens[maxx[0]]\n",
        "\n",
        "most_imp"
      ],
      "metadata": {
        "id": "jSjbKPCWk87K",
        "colab": {
          "base_uri": "https://localhost:8080/",
          "height": 35
        },
        "outputId": "677f8b01-938d-4c15-f388-35ff1af27370"
      },
      "execution_count": 46,
      "outputs": [
        {
          "output_type": "execute_result",
          "data": {
            "text/plain": [
              "'love'"
            ],
            "application/vnd.google.colaboratory.intrinsic+json": {
              "type": "string"
            }
          },
          "metadata": {},
          "execution_count": 46
        }
      ]
    },
    {
      "cell_type": "markdown",
      "metadata": {
        "id": "JTv9ST2_U6NA"
      },
      "source": [
        "**Ответ:** Здесь TfidfVectorizer выделил токен love - он полезен в определении окраски, поскольку чаще всего используется в контексте \"I love this... / I love how...\" и тд."
      ]
    },
    {
      "cell_type": "markdown",
      "metadata": {
        "id": "JVEuZm8BHms6"
      },
      "source": [
        "## Задание 4 Обучение первых моделей (1 балл)"
      ]
    },
    {
      "cell_type": "markdown",
      "metadata": {
        "id": "JADkO3sfXdOG"
      },
      "source": [
        "Примените оба векторайзера для получения матриц с признаками текстов.  Выделите целевую переменную."
      ]
    },
    {
      "cell_type": "code",
      "source": [
        "from sklearn.linear_model import LogisticRegression\n",
        "from sklearn.metrics import classification_report, roc_auc_score\n",
        "\n",
        "cv = CountVectorizer(tokenizer=custom_tokenizer)\n",
        "tfidf = TfidfVectorizer(tokenizer=custom_tokenizer)\n",
        "\n",
        "cv_train = cv.fit_transform(X_train['OriginalTweet'])\n",
        "tfidf_train = tfidf.fit_transform(X_train['OriginalTweet'])\n",
        "\n",
        "cv_test = cv.transform(X_test['OriginalTweet'])\n",
        "tfidf_test = tfidf.transform(X_test['OriginalTweet'])"
      ],
      "metadata": {
        "colab": {
          "base_uri": "https://localhost:8080/"
        },
        "id": "fPPrLN7050kg",
        "outputId": "ec7cd899-4898-4ebe-8523-7d7158cdd564"
      },
      "execution_count": 47,
      "outputs": [
        {
          "output_type": "stream",
          "name": "stderr",
          "text": [
            "/usr/local/lib/python3.10/dist-packages/sklearn/feature_extraction/text.py:528: UserWarning: The parameter 'token_pattern' will not be used since 'tokenizer' is not None'\n",
            "  warnings.warn(\n"
          ]
        }
      ]
    },
    {
      "cell_type": "markdown",
      "metadata": {
        "id": "_FX1KSOfYSx4"
      },
      "source": [
        "Обучите логистическую регрессию на векторах из обоих векторайзеров. Посчитайте долю правильных ответов на обучающих и тестовых данных. Какой векторайзер показал лучший результат? Что можно сказать о моделях?"
      ]
    },
    {
      "cell_type": "code",
      "execution_count": 52,
      "metadata": {
        "id": "-Tb3eh8UXJ6v",
        "colab": {
          "base_uri": "https://localhost:8080/"
        },
        "outputId": "9371ab63-0e62-4042-d286-60d69173ab7e"
      },
      "outputs": [
        {
          "output_type": "stream",
          "name": "stdout",
          "text": [
            "              precision    recall  f1-score   support\n",
            "\n",
            "           0       0.87      0.85      0.86      4615\n",
            "           1       0.88      0.89      0.88      5419\n",
            "\n",
            "    accuracy                           0.87     10034\n",
            "   macro avg       0.87      0.87      0.87     10034\n",
            "weighted avg       0.87      0.87      0.87     10034\n",
            "\n"
          ]
        }
      ],
      "source": [
        "from sklearn.linear_model import LogisticRegression\n",
        "from sklearn.metrics import accuracy_score\n",
        "\n",
        "logreg = LogisticRegression(max_iter=300)\n",
        "\n",
        "logreg.fit(cv_train, y_train)\n",
        "cv_pred = logreg.predict(cv_test)\n",
        "print(classification_report(y_test, cv_pred))"
      ]
    },
    {
      "cell_type": "code",
      "source": [
        "logreg.fit(tfidf_train, y_train)\n",
        "tfidf_pred = logreg.predict(tfidf_test)\n",
        "print(classification_report(y_test, tfidf_pred))"
      ],
      "metadata": {
        "colab": {
          "base_uri": "https://localhost:8080/"
        },
        "id": "VeVif5MO6jcq",
        "outputId": "3c9f4afc-6593-4d02-ef34-4a38c4f6f219"
      },
      "execution_count": 50,
      "outputs": [
        {
          "output_type": "stream",
          "name": "stdout",
          "text": [
            "              precision    recall  f1-score   support\n",
            "\n",
            "           0       0.85      0.81      0.83      4615\n",
            "           1       0.85      0.88      0.86      5419\n",
            "\n",
            "    accuracy                           0.85     10034\n",
            "   macro avg       0.85      0.85      0.85     10034\n",
            "weighted avg       0.85      0.85      0.85     10034\n",
            "\n"
          ]
        }
      ]
    },
    {
      "cell_type": "markdown",
      "metadata": {
        "id": "8y_wO7rCmv7K"
      },
      "source": [
        "**Ответ:** CountVectorizer показал результат лучше, чем TfidfVectorizer, но всего на пару процентов."
      ]
    },
    {
      "cell_type": "markdown",
      "metadata": {
        "id": "rSOR1i3mjrys"
      },
      "source": [
        "## Задание 5 Стемминг (0.5 балла)"
      ]
    },
    {
      "cell_type": "markdown",
      "metadata": {
        "id": "i6ONBWNPjuq-"
      },
      "source": [
        "Для уменьшения словаря можно использовать стемминг.\n",
        "\n",
        "Модифицируйте написанный токенайзер, добавив в него стемминг с использованием SnowballStemmer. Обучите Count- и Tfidf- векторайзеры. Как изменился размер словаря?"
      ]
    },
    {
      "cell_type": "code",
      "execution_count": 53,
      "metadata": {
        "id": "oVfA2-iMkQBb"
      },
      "outputs": [],
      "source": [
        "from nltk.stem import SnowballStemmer\n",
        "\n",
        "def custom_stem_tokenizer(text):\n",
        "  tokens = []\n",
        "  tw = TweetTokenizer()\n",
        "  stemmer = SnowballStemmer(language='english')\n",
        "  noise = stopwords.words(\"english\") + list(punctuation)\n",
        "  for w in tw.tokenize(text.lower()):\n",
        "    if (len(w) > 1 or ord(w) < 128) and not w in noise and w[:12] != 'https://t.co':\n",
        "      w = stemmer.stem(w)\n",
        "      tokens.append(w)\n",
        "\n",
        "  return tokens"
      ]
    },
    {
      "cell_type": "code",
      "execution_count": 54,
      "metadata": {
        "colab": {
          "base_uri": "https://localhost:8080/"
        },
        "id": "9QmrjYtqnlPd",
        "outputId": "7082ba93-3d62-4fd5-c2be-cb741bf0e837"
      },
      "outputs": [
        {
          "output_type": "execute_result",
          "data": {
            "text/plain": [
              "['sampl', 'text', '@sample_text', '#sampletext', 'ad', 'word', 'check', 'stem']"
            ]
          },
          "metadata": {},
          "execution_count": 54
        }
      ],
      "source": [
        "custom_stem_tokenizer('This is sample text!!!! @Sample_text I, \\x92\\x92 https://t.co/sample  #sampletext adding more words to check stemming')"
      ]
    },
    {
      "cell_type": "code",
      "execution_count": 55,
      "metadata": {
        "colab": {
          "base_uri": "https://localhost:8080/"
        },
        "id": "zAvUTmaplzOS",
        "outputId": "332d39c3-bf2a-4e78-b333-7ec8ac5bebef"
      },
      "outputs": [
        {
          "output_type": "stream",
          "name": "stderr",
          "text": [
            "/usr/local/lib/python3.10/dist-packages/sklearn/feature_extraction/text.py:528: UserWarning: The parameter 'token_pattern' will not be used since 'tokenizer' is not None'\n",
            "  warnings.warn(\n"
          ]
        },
        {
          "output_type": "stream",
          "name": "stdout",
          "text": [
            "36550\n"
          ]
        }
      ],
      "source": [
        "cv = CountVectorizer(tokenizer=custom_stem_tokenizer)\n",
        "tfidf = TfidfVectorizer(tokenizer=custom_stem_tokenizer)\n",
        "\n",
        "cv_train_stem = cv.fit_transform(X_train['OriginalTweet'])\n",
        "tfidf_train_stem = tfidf.fit_transform(X_train['OriginalTweet'])\n",
        "\n",
        "cv_test_stem = cv.transform(X_test['OriginalTweet'])\n",
        "tfidf_test_stem = tfidf.transform(X_test['OriginalTweet'])\n",
        "\n",
        "print(len(cv.vocabulary_))\n",
        "vocab_length = len(cv.vocabulary_)"
      ]
    },
    {
      "cell_type": "markdown",
      "metadata": {
        "id": "Oyzs5TaAoHP6"
      },
      "source": [
        "**Ответ** Размер словаря сократился на почти 10000 слов."
      ]
    },
    {
      "cell_type": "markdown",
      "metadata": {
        "id": "1OkncHI8oRmd"
      },
      "source": [
        "Обучите логистическую регрессию с использованием обоих векторайзеров. Изменилось ли качество? Есть ли смысл применять стемминг?"
      ]
    },
    {
      "cell_type": "code",
      "execution_count": 56,
      "metadata": {
        "id": "ykZJPphEoZ5W",
        "colab": {
          "base_uri": "https://localhost:8080/"
        },
        "outputId": "71918741-9072-4fca-8180-1fe5e4495569"
      },
      "outputs": [
        {
          "output_type": "stream",
          "name": "stdout",
          "text": [
            "              precision    recall  f1-score   support\n",
            "\n",
            "           0       0.87      0.85      0.86      4615\n",
            "           1       0.88      0.89      0.89      5419\n",
            "\n",
            "    accuracy                           0.88     10034\n",
            "   macro avg       0.87      0.87      0.87     10034\n",
            "weighted avg       0.87      0.88      0.87     10034\n",
            "\n",
            "              precision    recall  f1-score   support\n",
            "\n",
            "           0       0.86      0.83      0.85      4615\n",
            "           1       0.86      0.89      0.87      5419\n",
            "\n",
            "    accuracy                           0.86     10034\n",
            "   macro avg       0.86      0.86      0.86     10034\n",
            "weighted avg       0.86      0.86      0.86     10034\n",
            "\n"
          ]
        }
      ],
      "source": [
        "logreg.fit(cv_train_stem, y_train)\n",
        "cv_pred_stem = logreg.predict(cv_test_stem)\n",
        "print(classification_report(y_test, cv_pred_stem))\n",
        "\n",
        "logreg.fit(tfidf_train_stem, y_train)\n",
        "tfidf_pred_stem = logreg.predict(tfidf_test_stem)\n",
        "print(classification_report(y_test, tfidf_pred_stem))"
      ]
    },
    {
      "cell_type": "markdown",
      "metadata": {
        "id": "bCRlrODro0h8"
      },
      "source": [
        "**Ответ:** Качество немного улучшилось, значит есть смысл применять стемминг. Качество увеличилось в среднем на 1%, и я думаю это связано с тем, что рассматриваемые твиты написаны на английском языке, где не так много разных форм одного слова. Стемминг нужен намного больше, например, в русском языке."
      ]
    },
    {
      "cell_type": "markdown",
      "metadata": {
        "id": "hYWGQNEDqLC-"
      },
      "source": [
        "## Задание  6 Работа с частотами (1.5 балла)"
      ]
    },
    {
      "cell_type": "markdown",
      "metadata": {
        "id": "8Hq-tl5mqUSn"
      },
      "source": [
        "Еще один способ уменьшить количество признаков - это использовать параметры min_df и max_df при построении векторайзера  эти параметры помогают ограничить требуемую частоту встречаемости токена в документах.\n",
        "\n",
        "По умолчанию берутся все токены, которые встретились хотя бы один раз.\n",
        "\n"
      ]
    },
    {
      "cell_type": "markdown",
      "metadata": {
        "id": "m1SiD4DE3WZ2"
      },
      "source": [
        "Подберите max_df такой, что размер словаря будет 36651 (на 1 меньше, чем было). Почему параметр получился такой большой/маленький?"
      ]
    },
    {
      "cell_type": "code",
      "source": [
        "cv_df = CountVectorizer(tokenizer=custom_stem_tokenizer,\n",
        "                        max_df=0.3\n",
        "                        ).fit(\n",
        "                            X_train['OriginalTweet']\n",
        "                            )\n",
        "print(len(cv_df.vocabulary_))"
      ],
      "metadata": {
        "colab": {
          "base_uri": "https://localhost:8080/"
        },
        "id": "o3YLb8PViExb",
        "outputId": "1781047d-f95a-4e11-fd91-9f98dff03df3"
      },
      "execution_count": 59,
      "outputs": [
        {
          "output_type": "stream",
          "name": "stdout",
          "text": [
            "36549\n"
          ]
        }
      ]
    },
    {
      "cell_type": "code",
      "source": [
        "max_df = 0.1\n",
        "\n",
        "while True:\n",
        "    cv_df1 = CountVectorizer(tokenizer=custom_stem_tokenizer, max_df=max_df).fit(X_train['OriginalTweet'])\n",
        "\n",
        "    if len(cv_df1.vocabulary_) == vocab_length - 1:\n",
        "        break\n",
        "    else:\n",
        "        max_df += 0.1\n",
        "\n",
        "print(max_df)"
      ],
      "metadata": {
        "id": "tyEpkJUkjnuK",
        "colab": {
          "base_uri": "https://localhost:8080/"
        },
        "outputId": "5ab48d8b-58bd-4546-d135-82e8f1b8f241"
      },
      "execution_count": 58,
      "outputs": [
        {
          "output_type": "stream",
          "name": "stdout",
          "text": [
            "0.30000000000000004\n"
          ]
        }
      ]
    },
    {
      "cell_type": "markdown",
      "metadata": {
        "id": "UdZYoGZR4UsA"
      },
      "source": [
        "**Ответ:** У меня параметр вышел равным 0.3, и я думаю это из-за того, что мы убрали все стоп-слова, так что остались только слова, которые не слишком часто используются, поэтому порог оказался 30%."
      ]
    },
    {
      "cell_type": "markdown",
      "metadata": {
        "id": "_gRIUaB1u32f"
      },
      "source": [
        "Подберите min_df (используйте дефолтное значение max_df) в CountVectorizer таким образом, чтобы размер словаря был 3700 токенов (при использовании токенайзера со стеммингом), а качество осталось таким же, как и было. Что можно сказать о результатах?"
      ]
    },
    {
      "cell_type": "code",
      "execution_count": 60,
      "metadata": {
        "colab": {
          "base_uri": "https://localhost:8080/"
        },
        "id": "kSnMJkn9XmsT",
        "outputId": "89f9b898-1356-4f19-fbfa-fe0164e0b718"
      },
      "outputs": [
        {
          "output_type": "stream",
          "name": "stdout",
          "text": [
            "3719\n"
          ]
        }
      ],
      "source": [
        "cv_df = CountVectorizer(tokenizer=custom_stem_tokenizer,\n",
        "                        min_df=11 #я здесь в итоге вручную нашла просто\n",
        "                        ).fit(\n",
        "                            X_train['OriginalTweet']\n",
        "                            )\n",
        "print(len(cv_df.vocabulary_))"
      ]
    },
    {
      "cell_type": "code",
      "source": [
        "cv_df_train = cv_df.fit_transform(X_train['OriginalTweet'])\n",
        "cv_df_test = cv_df.transform(X_test['OriginalTweet'])\n",
        "\n",
        "logreg.fit(cv_df_train, y_train)\n",
        "cv_df_pred = logreg.predict(cv_df_test)\n",
        "print(classification_report(y_test, cv_df_pred))"
      ],
      "metadata": {
        "id": "mvMDwpdfjm8Y",
        "colab": {
          "base_uri": "https://localhost:8080/"
        },
        "outputId": "f962e0b7-f7c9-4418-833a-32c9bc21fcfa"
      },
      "execution_count": 62,
      "outputs": [
        {
          "output_type": "stream",
          "name": "stderr",
          "text": [
            "/usr/local/lib/python3.10/dist-packages/sklearn/feature_extraction/text.py:528: UserWarning: The parameter 'token_pattern' will not be used since 'tokenizer' is not None'\n",
            "  warnings.warn(\n"
          ]
        },
        {
          "output_type": "stream",
          "name": "stdout",
          "text": [
            "              precision    recall  f1-score   support\n",
            "\n",
            "           0       0.86      0.85      0.86      4615\n",
            "           1       0.88      0.89      0.88      5419\n",
            "\n",
            "    accuracy                           0.87     10034\n",
            "   macro avg       0.87      0.87      0.87     10034\n",
            "weighted avg       0.87      0.87      0.87     10034\n",
            "\n"
          ]
        }
      ]
    },
    {
      "cell_type": "markdown",
      "metadata": {
        "id": "3fGYpUIZx0fk"
      },
      "source": [
        "**Ответ:** Точность в среднем изменилась меньше, чем на процент, так что качество не ухудшилось."
      ]
    },
    {
      "cell_type": "markdown",
      "source": [
        "В предыдущих заданиях признаки не скалировались. Отскалируйте данные (при словаре размера 3.7 тысяч, векторизованные CountVectorizer), обучите логистическую регрессию, посмотрите качество и выведите `berplot` содержащий по 10 токенов, с наибольшим по модулю положительными/отрицательными весами. Что можно сказать об этих токенах?"
      ],
      "metadata": {
        "id": "Gx_h_-inKbBl"
      }
    },
    {
      "cell_type": "code",
      "source": [
        "from sklearn.preprocessing import StandardScaler\n",
        "\n",
        "scaler = StandardScaler(with_mean=False)\n",
        "sc_train = scaler.fit_transform(cv_df_train)\n",
        "sc_test = scaler.transform(cv_df_test)\n",
        "\n",
        "logreg.fit(sc_train, y_train)\n",
        "sc_pred = logreg.predict(sc_test)\n",
        "print(classification_report(y_test, sc_pred))"
      ],
      "metadata": {
        "id": "KBATXJX6LG9q",
        "colab": {
          "base_uri": "https://localhost:8080/"
        },
        "outputId": "e5fd5dee-f305-4df1-9809-bfc0eb511dcd"
      },
      "execution_count": 63,
      "outputs": [
        {
          "output_type": "stream",
          "name": "stdout",
          "text": [
            "              precision    recall  f1-score   support\n",
            "\n",
            "           0       0.84      0.83      0.83      4615\n",
            "           1       0.86      0.86      0.86      5419\n",
            "\n",
            "    accuracy                           0.85     10034\n",
            "   macro avg       0.85      0.85      0.85     10034\n",
            "weighted avg       0.85      0.85      0.85     10034\n",
            "\n"
          ]
        }
      ]
    },
    {
      "cell_type": "code",
      "source": [
        "coefs = logreg.coef_[0]\n",
        "abs_coefs = np.abs(coefs)\n",
        "\n",
        "tokens = cv_df.get_feature_names_out()\n",
        "\n",
        "top_inds = np.argsort(abs_coefs)[-10:]\n",
        "top_tokens = [tokens[i] for i in top_inds]\n",
        "\n",
        "plt.figure(figsize=(10, 6))\n",
        "plt.barh(np.arange(10), coefs[top_inds])\n",
        "plt.yticks(np.arange(10), top_tokens)\n",
        "plt.show()"
      ],
      "metadata": {
        "colab": {
          "base_uri": "https://localhost:8080/",
          "height": 522
        },
        "id": "u5aL37p0OOtS",
        "outputId": "b5cc0cf1-2787-4b52-b607-22c1c512ba0f"
      },
      "execution_count": 68,
      "outputs": [
        {
          "output_type": "display_data",
          "data": {
            "text/plain": [
              "<Figure size 1000x600 with 1 Axes>"
            ],
            "image/png": "[encoded data removed]"
          },
          "metadata": {}
        }
      ]
    },
    {
      "cell_type": "markdown",
      "source": [
        "**Ответ:** Они очень хорошо отражают настроение твита: по всем этим токенам можно с хорошей точностью предсказать, положительный твит или отрицательный."
      ],
      "metadata": {
        "id": "ThcEfzY1LHET"
      }
    },
    {
      "cell_type": "markdown",
      "metadata": {
        "id": "ktJVOdrIHq7B"
      },
      "source": [
        "## Задание 7 Другие признаки (1.5 балла)"
      ]
    },
    {
      "cell_type": "markdown",
      "metadata": {
        "id": "Yt3jRCZ2H0Og"
      },
      "source": [
        "Мы были сконцентрированы на работе с текстами твиттов и не использовали другие признаки - имена пользователя, дату и местоположение"
      ]
    },
    {
      "cell_type": "markdown",
      "metadata": {
        "id": "52wjewCCo_di"
      },
      "source": [
        "Изучите признаки UserName и ScreenName. полезны ли они? Если полезны, то закодируйте их, добавьте к матрице с отскалированными признаками, обучите логистическую регрессию, замерьте качество."
      ]
    },
    {
      "cell_type": "code",
      "execution_count": 69,
      "metadata": {
        "id": "63thouYZptj6",
        "colab": {
          "base_uri": "https://localhost:8080/"
        },
        "outputId": "f6182979-c33a-45f6-f440-f5da88f204d6"
      },
      "outputs": [
        {
          "output_type": "execute_result",
          "data": {
            "text/plain": [
              "(33444, 6)"
            ]
          },
          "metadata": {},
          "execution_count": 69
        }
      ],
      "source": [
        "df.shape"
      ]
    },
    {
      "cell_type": "code",
      "source": [
        "df['UserName'].unique().shape[0], df['ScreenName'].unique().shape[0]"
      ],
      "metadata": {
        "colab": {
          "base_uri": "https://localhost:8080/"
        },
        "id": "6gwGtYGFQpBp",
        "outputId": "05daffa4-9c5c-48b7-dbeb-9c57ad8da1a1"
      },
      "execution_count": 71,
      "outputs": [
        {
          "output_type": "execute_result",
          "data": {
            "text/plain": [
              "(33444, 33444)"
            ]
          },
          "metadata": {},
          "execution_count": 71
        }
      ]
    },
    {
      "cell_type": "markdown",
      "metadata": {
        "id": "r8_qR-gnpT3a"
      },
      "source": [
        "**Ответ:** Признаки UserName и ScreenName бесполезны, так как каждое их значение - уникально."
      ]
    },
    {
      "cell_type": "markdown",
      "metadata": {
        "id": "ythEcFSkt7y3"
      },
      "source": [
        "Изучите признак TweetAt в обучающей выборке: преобразуйте его к типу datetime и нарисуйте его гистограмму с разделением по цвету на оспнове целевой переменной. Полезен ли он? Если полезен, то закодируйте его, добавьте к матрице с отскалированными признаками, обучите логистическую регрессию, замерьте качество."
      ]
    },
    {
      "cell_type": "code",
      "source": [
        "train = X_train\n",
        "train['Sentiment'] = y_train\n",
        "\n",
        "train['TweetAt']= pd.to_datetime(train['TweetAt'], format='%d-%m-%Y')\n",
        "\n",
        "sns.displot(train, x=\"TweetAt\", hue=\"Sentiment\")\n",
        "plt.show()"
      ],
      "metadata": {
        "id": "Lxb_k0JLirNv",
        "colab": {
          "base_uri": "https://localhost:8080/",
          "height": 506
        },
        "outputId": "dcf16150-aec4-41a0-d206-aef291ab5cd6"
      },
      "execution_count": 72,
      "outputs": [
        {
          "output_type": "display_data",
          "data": {
            "text/plain": [
              "<Figure size 582.736x500 with 1 Axes>"
            ],
            "image/png": "[encoded data removed]"
          },
          "metadata": {}
        }
      ]
    },
    {
      "cell_type": "markdown",
      "metadata": {
        "id": "4IdLBdpQxM-G"
      },
      "source": [
        "**Ответ:** Никакой сильной зависимости на графике не наблюдается, так что данный признак является для нас бесполезным.\n",
        "\n"
      ]
    },
    {
      "cell_type": "markdown",
      "source": [
        "Поработайте с признаком Location в обучающей выборке. Сколько уникальных значений?"
      ],
      "metadata": {
        "id": "r2JtRPhNP6qx"
      }
    },
    {
      "cell_type": "code",
      "source": [
        "train['Location'].unique().shape[0]"
      ],
      "metadata": {
        "id": "xYQZQ1FRNpoe",
        "colab": {
          "base_uri": "https://localhost:8080/"
        },
        "outputId": "9679d38c-7fe9-41c1-8319-fe3b622f72e8"
      },
      "execution_count": 73,
      "outputs": [
        {
          "output_type": "execute_result",
          "data": {
            "text/plain": [
              "7883"
            ]
          },
          "metadata": {},
          "execution_count": 73
        }
      ]
    },
    {
      "cell_type": "markdown",
      "source": [
        "Постройте гистограмму топ-10 по популярности местоположений (исключая Unknown)"
      ],
      "metadata": {
        "id": "6k4JwpRTQISa"
      }
    },
    {
      "cell_type": "code",
      "source": [
        "locations = train['Location'].value_counts()[1:11].index.tolist()\n",
        "train_loc = train[train['Location'].apply(lambda x: x in locations)]\n",
        "\n",
        "sns.displot(train_loc, x=\"Location\", aspect=2.5)\n",
        "plt.show()"
      ],
      "metadata": {
        "id": "J91YkhegJ0mz",
        "colab": {
          "base_uri": "https://localhost:8080/",
          "height": 506
        },
        "outputId": "221223d8-4973-4124-87a0-3da34e769721"
      },
      "execution_count": 74,
      "outputs": [
        {
          "output_type": "display_data",
          "data": {
            "text/plain": [
              "<Figure size 1250x500 with 1 Axes>"
            ],
            "image/png": "[encoded data removed]"
          },
          "metadata": {}
        }
      ]
    },
    {
      "cell_type": "markdown",
      "source": [
        "Видно, что многие местоположения включают в себя более точное название места, чем другие (Например, у некоторых стоит London, UK; а у некоторых просто UK или United Kingdom).\n",
        "\n",
        "Создайте новый признак WiderLocation, который содержит самое широкое местоположение (например, из London, UK должно получиться UK). Сколько уникальных категорий теперь? Постройте аналогичную гистограмму."
      ],
      "metadata": {
        "id": "ZOsv3lODTfYB"
      }
    },
    {
      "cell_type": "code",
      "source": [],
      "metadata": {
        "id": "LDhHXx6boe4B"
      },
      "execution_count": null,
      "outputs": []
    },
    {
      "cell_type": "markdown",
      "source": [
        "Закодируйте признак WiderLocation с помощью OHE таким образом, чтобы создались только столбцы для местоположений, которые встречаются более одного раза. Сколько таких значений?\n"
      ],
      "metadata": {
        "id": "cgyWrD2eVfff"
      }
    },
    {
      "cell_type": "code",
      "source": [
        "# -- YOUR CODE HERE --"
      ],
      "metadata": {
        "id": "SeJBfBWgPvg_"
      },
      "execution_count": null,
      "outputs": []
    },
    {
      "cell_type": "markdown",
      "source": [
        "Добавьте этот признак к матрице отскалированных текстовых признаков, обучите логистическую регрессию, замерьте качество. Как оно изменилось? Оказался ли признак полезным?\n",
        "\n",
        "\n",
        "*Подсказка:* используйте параметр `categories` в энкодере."
      ],
      "metadata": {
        "id": "ZyMX5kZuimPK"
      }
    },
    {
      "cell_type": "code",
      "source": [
        "# -- YOUR CODE HERE --"
      ],
      "metadata": {
        "id": "EO1jNPeeim7A"
      },
      "execution_count": null,
      "outputs": []
    },
    {
      "cell_type": "markdown",
      "source": [
        "**Ответ:** # -- YOUR ANSWER HERE --"
      ],
      "metadata": {
        "id": "7dHsGlDRYUQt"
      }
    },
    {
      "cell_type": "markdown",
      "source": [
        "## Задание 8 Хорошее качество (Бонус 1 балл)"
      ],
      "metadata": {
        "id": "IWn6h4W9eD3S"
      }
    },
    {
      "cell_type": "markdown",
      "source": [
        "Добейтесь accuracy=0.9 на тестовой выборке (можно сменить токенайзер, векторайзер, модель и т.д.)"
      ],
      "metadata": {
        "id": "-HDI0SU6eLgi"
      }
    },
    {
      "cell_type": "code",
      "source": [
        "# -- YOUR CODE HERE --"
      ],
      "metadata": {
        "id": "k3WMbE8edhlW"
      },
      "execution_count": null,
      "outputs": []
    }
  ],
  "metadata": {
    "colab": {
      "provenance": []
    },
    "kernelspec": {
      "display_name": "Python 3",
      "name": "python3"
    },
    "language_info": {
      "name": "python"
    }
  },
  "nbformat": 4,
  "nbformat_minor": 0
}